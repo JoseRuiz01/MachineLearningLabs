{
 "cells": [
  {
   "cell_type": "code",
   "execution_count": 1,
   "metadata": {},
   "outputs": [],
   "source": [
    "import numpy as np\n",
    "import pandas as pd\n",
    "import matplotlib.pyplot as plt\n",
    "import matplotlib\n",
    "from sklearn.model_selection import train_test_split\n",
    "import math\n",
    "import random\n",
    "from random import uniform"
   ]
  },
  {
   "cell_type": "raw",
   "metadata": {},
   "source": [
    "In this TP, you will see how to use the k-nearest-neighbour algorithm for classification.\n",
    "We will use the dataset with handwritten digits.\n",
    "You will first apply k-nn to the raw images and then try to improve the performance using HOG representations of images."
   ]
  },
  {
   "cell_type": "code",
   "execution_count": 2,
   "metadata": {},
   "outputs": [],
   "source": [
    "mnist = pd.read_csv('cp_sample.csv', sep=';')"
   ]
  },
  {
   "cell_type": "raw",
   "metadata": {},
   "source": [
    "Question : Split this dataset into training/validation/test (you can use the same split as last TP)"
   ]
  },
  {
   "cell_type": "code",
   "execution_count": null,
   "metadata": {},
   "outputs": [],
   "source": []
  },
  {
   "cell_type": "code",
   "execution_count": 3,
   "metadata": {},
   "outputs": [],
   "source": [
    "from sklearn.neighbors import KNeighborsClassifier"
   ]
  },
  {
   "cell_type": "raw",
   "metadata": {},
   "source": [
    "knn can be used by the following command:"
   ]
  },
  {
   "cell_type": "code",
   "execution_count": null,
   "metadata": {},
   "outputs": [],
   "source": [
    "n_n = KNeighborsClassifier(n_neighbors=1) # this initializes a knn for k = 1\n",
    "n_n.fit(data_train.iloc[:,1:],data_train.label)\n",
    "# here we fit this knn by giving the features of all the\n",
    "# examples of the training set (columns 1 to last) and their labels"
   ]
  },
  {
   "cell_type": "raw",
   "metadata": {},
   "source": [
    "Question : Use the function predict (applied to n_n) to predict the 2 first examples of the training set. Check if these predictions are correct"
   ]
  },
  {
   "cell_type": "code",
   "execution_count": null,
   "metadata": {},
   "outputs": [],
   "source": []
  },
  {
   "cell_type": "raw",
   "metadata": {},
   "source": [
    "Question : Compute the prediction score of this knn on the validation set"
   ]
  },
  {
   "cell_type": "code",
   "execution_count": null,
   "metadata": {},
   "outputs": [],
   "source": []
  },
  {
   "cell_type": "raw",
   "metadata": {},
   "source": [
    "Question : Try now different knn (by considering different values of k) and select the most appropriated one. What is the estimation of the generalization error of knn for this dataset ?"
   ]
  },
  {
   "cell_type": "code",
   "execution_count": null,
   "metadata": {},
   "outputs": [],
   "source": []
  },
  {
   "cell_type": "code",
   "execution_count": null,
   "metadata": {},
   "outputs": [],
   "source": []
  },
  {
   "cell_type": "raw",
   "metadata": {},
   "source": [
    "You will now use HOG representations of images to try to improve the classification performance "
   ]
  },
  {
   "cell_type": "raw",
   "metadata": {},
   "source": [
    "Question : As in last TP, compute the new training, validation and test set with HOG representations. You can use first 8 orientations and cells of 14*14 pixels (you can change after)."
   ]
  },
  {
   "cell_type": "code",
   "execution_count": null,
   "metadata": {},
   "outputs": [],
   "source": []
  },
  {
   "cell_type": "code",
   "execution_count": null,
   "metadata": {},
   "outputs": [],
   "source": []
  },
  {
   "cell_type": "raw",
   "metadata": {},
   "source": [
    "Question : Try different knn (by considering different values of k) on these new datasets and select the most appropriated one. What is the estimation of the generalization error of knn for this dataset ? Conclusion ?"
   ]
  },
  {
   "cell_type": "code",
   "execution_count": null,
   "metadata": {},
   "outputs": [],
   "source": []
  },
  {
   "cell_type": "code",
   "execution_count": null,
   "metadata": {},
   "outputs": [],
   "source": []
  },
  {
   "cell_type": "code",
   "execution_count": null,
   "metadata": {},
   "outputs": [],
   "source": []
  },
  {
   "cell_type": "raw",
   "metadata": {},
   "source": [
    "Bonus question : \n",
    "Implement the cleaning and condensing algorithms and evaluate the effect of these algorithms on both the size of the training set and the accuracy of predictions"
   ]
  }
 ],
 "metadata": {
  "kernelspec": {
   "display_name": "organized-UI1b6WnF",
   "language": "python",
   "name": "python3"
  },
  "language_info": {
   "codemirror_mode": {
    "name": "ipython",
    "version": 3
   },
   "file_extension": ".py",
   "mimetype": "text/x-python",
   "name": "python",
   "nbconvert_exporter": "python",
   "pygments_lexer": "ipython3",
   "version": "3.12.4"
  }
 },
 "nbformat": 4,
 "nbformat_minor": 4
}
