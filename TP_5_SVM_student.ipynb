{
 "cells": [
  {
   "cell_type": "code",
   "execution_count": 93,
   "metadata": {},
   "outputs": [],
   "source": [
    "import numpy as np\n",
    "import pandas as pd\n",
    "import matplotlib.pyplot as plt\n",
    "import matplotlib\n",
    "from sklearn.model_selection import train_test_split\n",
    "import math\n",
    "import random\n",
    "from random import uniform"
   ]
  },
  {
   "cell_type": "markdown",
   "metadata": {},
   "source": [
    "# Exercise 1 : Linear SVM - Influence of parameter C"
   ]
  },
  {
   "cell_type": "raw",
   "metadata": {},
   "source": [
    "Let's load a dataset first"
   ]
  },
  {
   "cell_type": "code",
   "execution_count": 94,
   "metadata": {},
   "outputs": [
    {
     "data": {
      "text/html": [
       "<div>\n",
       "<style scoped>\n",
       "    .dataframe tbody tr th:only-of-type {\n",
       "        vertical-align: middle;\n",
       "    }\n",
       "\n",
       "    .dataframe tbody tr th {\n",
       "        vertical-align: top;\n",
       "    }\n",
       "\n",
       "    .dataframe thead th {\n",
       "        text-align: right;\n",
       "    }\n",
       "</style>\n",
       "<table border=\"1\" class=\"dataframe\">\n",
       "  <thead>\n",
       "    <tr style=\"text-align: right;\">\n",
       "      <th></th>\n",
       "      <th>x1</th>\n",
       "      <th>x2</th>\n",
       "      <th>y</th>\n",
       "    </tr>\n",
       "  </thead>\n",
       "  <tbody>\n",
       "    <tr>\n",
       "      <th>0</th>\n",
       "      <td>10.00</td>\n",
       "      <td>5.00</td>\n",
       "      <td>1</td>\n",
       "    </tr>\n",
       "    <tr>\n",
       "      <th>1</th>\n",
       "      <td>9.50</td>\n",
       "      <td>10.00</td>\n",
       "      <td>-1</td>\n",
       "    </tr>\n",
       "    <tr>\n",
       "      <th>2</th>\n",
       "      <td>2.30</td>\n",
       "      <td>5.25</td>\n",
       "      <td>-1</td>\n",
       "    </tr>\n",
       "    <tr>\n",
       "      <th>3</th>\n",
       "      <td>3.40</td>\n",
       "      <td>3.88</td>\n",
       "      <td>-1</td>\n",
       "    </tr>\n",
       "    <tr>\n",
       "      <th>4</th>\n",
       "      <td>7.66</td>\n",
       "      <td>4.46</td>\n",
       "      <td>-1</td>\n",
       "    </tr>\n",
       "    <tr>\n",
       "      <th>...</th>\n",
       "      <td>...</td>\n",
       "      <td>...</td>\n",
       "      <td>...</td>\n",
       "    </tr>\n",
       "    <tr>\n",
       "      <th>147</th>\n",
       "      <td>15.01</td>\n",
       "      <td>15.67</td>\n",
       "      <td>1</td>\n",
       "    </tr>\n",
       "    <tr>\n",
       "      <th>148</th>\n",
       "      <td>16.05</td>\n",
       "      <td>14.70</td>\n",
       "      <td>1</td>\n",
       "    </tr>\n",
       "    <tr>\n",
       "      <th>149</th>\n",
       "      <td>15.65</td>\n",
       "      <td>18.23</td>\n",
       "      <td>1</td>\n",
       "    </tr>\n",
       "    <tr>\n",
       "      <th>150</th>\n",
       "      <td>18.85</td>\n",
       "      <td>17.43</td>\n",
       "      <td>1</td>\n",
       "    </tr>\n",
       "    <tr>\n",
       "      <th>151</th>\n",
       "      <td>17.25</td>\n",
       "      <td>15.21</td>\n",
       "      <td>1</td>\n",
       "    </tr>\n",
       "  </tbody>\n",
       "</table>\n",
       "<p>152 rows × 3 columns</p>\n",
       "</div>"
      ],
      "text/plain": [
       "        x1     x2  y\n",
       "0    10.00   5.00  1\n",
       "1     9.50  10.00 -1\n",
       "2     2.30   5.25 -1\n",
       "3     3.40   3.88 -1\n",
       "4     7.66   4.46 -1\n",
       "..     ...    ... ..\n",
       "147  15.01  15.67  1\n",
       "148  16.05  14.70  1\n",
       "149  15.65  18.23  1\n",
       "150  18.85  17.43  1\n",
       "151  17.25  15.21  1\n",
       "\n",
       "[152 rows x 3 columns]"
      ]
     },
     "execution_count": 94,
     "metadata": {},
     "output_type": "execute_result"
    }
   ],
   "source": [
    "dataset = pd.read_csv('LineaireNoisy2.csv', delimiter=';')\n",
    "dataset"
   ]
  },
  {
   "cell_type": "raw",
   "metadata": {},
   "source": [
    "As you can see, we have here 152 examples described by 2 numerical variables (x1 and x2) and 1 categorical target variable (y).\n",
    "Question : What are the possible values for y ? How many examples for each possible values of y ?"
   ]
  },
  {
   "cell_type": "code",
   "execution_count": null,
   "metadata": {},
   "outputs": [],
   "source": []
  },
  {
   "cell_type": "raw",
   "metadata": {},
   "source": [
    "Question : Plot this dataset in a (x1, x2) plane, with different colors for the values of y."
   ]
  },
  {
   "cell_type": "code",
   "execution_count": null,
   "metadata": {},
   "outputs": [],
   "source": []
  },
  {
   "cell_type": "raw",
   "metadata": {},
   "source": [
    "Question : Is this dataset linearly separable ? Find some examples that are close to the boundary"
   ]
  },
  {
   "cell_type": "raw",
   "metadata": {},
   "source": []
  },
  {
   "cell_type": "markdown",
   "metadata": {},
   "source": [
    "## Fitting a linear SVM to this dataset"
   ]
  },
  {
   "cell_type": "code",
   "execution_count": 97,
   "metadata": {},
   "outputs": [],
   "source": [
    "from sklearn import svm"
   ]
  },
  {
   "cell_type": "code",
   "execution_count": 98,
   "metadata": {},
   "outputs": [],
   "source": [
    "model_svm = svm.SVC(C = 1000, kernel = 'linear')\n",
    "# here SVC stands for Support Vector Classification (there are other kinds of SVM),and we ask for a linear kernel\n",
    "# The parameter C is set to 1000"
   ]
  },
  {
   "cell_type": "code",
   "execution_count": 99,
   "metadata": {},
   "outputs": [
    {
     "data": {
      "text/plain": [
       "SVC(C=1000, kernel='linear')"
      ]
     },
     "execution_count": 99,
     "metadata": {},
     "output_type": "execute_result"
    }
   ],
   "source": [
    "model_svm.fit(dataset.iloc[:,0:2], dataset.y)\n",
    "# here we ask to fit the model using the features (x1 and x2) and the target (y)"
   ]
  },
  {
   "cell_type": "raw",
   "metadata": {},
   "source": [
    "In the CM, you have seen that when fitting a SVC model, some support vectors are identified and one coefficient (called weight or Lagrange coefficient) is associated to each support vector. In addition, one more parameter is also estimated: the constant of the model.\n",
    "We can find these informations bt the following commands:"
   ]
  },
  {
   "cell_type": "code",
   "execution_count": 100,
   "metadata": {},
   "outputs": [
    {
     "data": {
      "text/plain": [
       "array([[10.  ,  5.  ],\n",
       "       [ 9.41,  6.97],\n",
       "       [10.78, 18.49]])"
      ]
     },
     "execution_count": 100,
     "metadata": {},
     "output_type": "execute_result"
    }
   ],
   "source": [
    "model_svm.support_vectors_\n",
    "# the support vectors found by the SVC. Here 3 support vectors, called sv1, sv2 and sv3"
   ]
  },
  {
   "cell_type": "code",
   "execution_count": 101,
   "metadata": {},
   "outputs": [
    {
     "data": {
      "text/plain": [
       "array([  0,  61, 102])"
      ]
     },
     "execution_count": 101,
     "metadata": {},
     "output_type": "execute_result"
    }
   ],
   "source": [
    "model_svm.support_\n",
    "# the index of the support vectors in the dataset. you can check "
   ]
  },
  {
   "cell_type": "code",
   "execution_count": 102,
   "metadata": {},
   "outputs": [
    {
     "data": {
      "text/plain": [
       "array([[ 3.46934032, -4.04837214,  0.57903182]])"
      ]
     },
     "execution_count": 102,
     "metadata": {},
     "output_type": "execute_result"
    }
   ],
   "source": [
    "model_svm.dual_coef_\n",
    "# the lagrange coefficients associated to the support vectors (w1, w2 and w3)"
   ]
  },
  {
   "cell_type": "code",
   "execution_count": 103,
   "metadata": {},
   "outputs": [
    {
     "data": {
      "text/plain": [
       "array([-26.58167983])"
      ]
     },
     "execution_count": 103,
     "metadata": {},
     "output_type": "execute_result"
    }
   ],
   "source": [
    "model_svm.intercept_\n",
    "# the constant of the model (w0)"
   ]
  },
  {
   "cell_type": "raw",
   "metadata": {},
   "source": [
    "When a model is fitted, it can be used to make some predictions. We'll recall the decision process of a SVC here.\n",
    "For an example described by a feature vector x (here with 2 features), the model computes:\n",
    "h(x) = w1* (sv1.x) + w2*(sv2.x) + w3 * (sv3.x) + w0 \n",
    "here there is 3 support vectors, so three terms in this formula, plus the constant\n",
    "then if h(x) > 0, it predicts y = 1, otherwise it predicts y = -1 (here it is binary classification)\n",
    "You can obtain the h(x) values for the examples in the dataset by the following command:"
   ]
  },
  {
   "cell_type": "code",
   "execution_count": 104,
   "metadata": {},
   "outputs": [
    {
     "data": {
      "text/plain": [
       "array([  0.99939461,  -1.24146694, -20.91106359, -17.56196996,\n",
       "        -5.55799375, -10.10885491,  -3.90820838, -21.76677542,\n",
       "       -10.39661987, -18.76122684, -13.09442159, -15.41560301,\n",
       "       -22.18719605,  -3.62254841, -16.270259  , -17.78689301,\n",
       "        -7.43347457, -17.49249741, -17.13467421,  -7.38323704,\n",
       "       -19.55155385, -12.85903139, -16.87852969, -18.2173496 ,\n",
       "        -4.326833  , -10.06555698,  -6.05402189, -12.56073479,\n",
       "       -12.99187378, -11.72577727,  -7.35536312, -12.18367657,\n",
       "        -7.47454528, -24.64731586, -10.16020606, -18.04294081,\n",
       "       -14.80779576, -21.27223434,  -1.34002374, -17.23756323,\n",
       "        -7.28065699, -13.86610599, -19.4385644 , -10.60134877,\n",
       "        -7.27867425, -10.47188617,  -5.97832438, -10.88208413,\n",
       "        -3.4990018 , -12.14969994,  -4.26845225, -20.12138674,\n",
       "       -11.96792035, -11.42924445, -14.0703392 , -24.64815275,\n",
       "        -6.91062837, -19.13289699, -16.7708383 ,  -8.60993663,\n",
       "        -9.54134596,  -0.9996973 , -10.91971728,  -7.86931922,\n",
       "       -19.29135384,  -9.86618391, -13.47321807, -21.38472811,\n",
       "       -12.16298673,  -3.04137922, -18.88967254,  -6.08561009,\n",
       "       -11.23393358, -21.91330357, -21.53568519, -24.28351219,\n",
       "       -10.94022039,  11.17420101,  19.20399183,   9.9286076 ,\n",
       "        20.03087062,  13.13829268,  16.69905479,   8.34470275,\n",
       "        13.68121079,  12.45510361,  15.96717301,   4.13082047,\n",
       "        16.6380989 ,  14.39407651,  19.83741353,   5.63745076,\n",
       "        19.67257725,  11.46434767,  19.11980991,  17.72774612,\n",
       "         4.53489019,  18.03115406,  21.22724338,   9.79793468,\n",
       "        13.76171066,  23.24984476,   1.0003027 ,  22.67354242,\n",
       "        11.25138557,  23.45441917,   5.0386881 ,  12.5136066 ,\n",
       "        11.6422585 ,   9.52887681,  16.39595582,  15.81847539,\n",
       "        16.62525003,   6.20979433,  16.19782532,  26.19577002,\n",
       "        23.10247972,   8.46877728,   8.73325174,  18.92486577,\n",
       "         4.38789188,  11.97304467,  16.02843787,  15.56400465,\n",
       "        13.53291886,  16.87281341,   4.88590275,   9.80372842,\n",
       "        18.22179151,  10.02688097,   8.79188369,  15.36748345,\n",
       "        15.81856539,  11.76602407,   6.34607428,   5.872532  ,\n",
       "        13.78156361,   9.90851018,   9.55919691,  24.05104461,\n",
       "        15.08259588,   4.53882344,  15.33232873,  22.02283621,\n",
       "        15.70102477,  15.28292809,  13.4139167 ,  13.47719654,\n",
       "        16.59021755,  14.87468063,  24.09459375,  19.91472033])"
      ]
     },
     "execution_count": 104,
     "metadata": {},
     "output_type": "execute_result"
    }
   ],
   "source": [
    "model_svm.decision_function(dataset.iloc[:,0:2])"
   ]
  },
  {
   "cell_type": "raw",
   "metadata": {},
   "source": [
    "Question : what are the decisions (predictions of y) for the 2 first examples of the dataset ? Are these decisions correct ?"
   ]
  },
  {
   "cell_type": "raw",
   "metadata": {},
   "source": []
  },
  {
   "cell_type": "raw",
   "metadata": {},
   "source": [
    "Question : what are the decision values for the 3 support vectors ? Was it expected ?"
   ]
  },
  {
   "cell_type": "code",
   "execution_count": null,
   "metadata": {},
   "outputs": [],
   "source": []
  },
  {
   "cell_type": "raw",
   "metadata": {},
   "source": [
    "Question : without any command or computation, what should be the prediction score of this model on the examples of dataset ?"
   ]
  },
  {
   "cell_type": "raw",
   "metadata": {},
   "source": []
  },
  {
   "cell_type": "raw",
   "metadata": {},
   "source": [
    "Question : using the score function applied to svm_model on dataset, compute the prediction score on this dataset (same use of score function than previous algorithms). "
   ]
  },
  {
   "cell_type": "code",
   "execution_count": null,
   "metadata": {},
   "outputs": [],
   "source": []
  },
  {
   "cell_type": "raw",
   "metadata": {},
   "source": [
    "Run the following cells to see a plot of your dataset together with the decision boundary and the margins.\n",
    "Question : Does this boundary seem adapted to the dataset ?"
   ]
  },
  {
   "cell_type": "code",
   "execution_count": 1,
   "metadata": {},
   "outputs": [],
   "source": [
    "def svm_draw(model_svm, xmin, xmax, dataset):\n",
    "    \n",
    "    color_map = matplotlib.colors.ListedColormap(pd.Series(['blue', 'red']))\n",
    "\n",
    "\n",
    "    plt.figure(figsize=(10, 8))\n",
    "    # Plotting our two-features-space\n",
    "    plt.scatter(dataset.iloc[:,0], dataset.iloc[:,1], c = dataset.y, cmap = color_map, marker='+')\n",
    "    # Constructing a hyperplane using a formula.\n",
    "    w = model_svm.coef_[0]           # w consists of 2 elements\n",
    "    b = model_svm.intercept_[0]      # b consists of 1 element\n",
    "    x_points = np.linspace(xmin, xmax)    # generating x-points from -1 to 1\n",
    "    y_points = -(w[0] / w[1]) * x_points - b / w[1]  # getting corresponding y-points\n",
    "\n",
    "    plt.plot(x_points, y_points, c='g');\n",
    "\n",
    "    plt.scatter(model_svm.support_vectors_[:, 0],\n",
    "                model_svm.support_vectors_[:, 1], \n",
    "                s=50, \n",
    "                facecolors='none', \n",
    "                edgecolors='k', \n",
    "                alpha=1);\n",
    "\n",
    "    # Step 2 (unit-vector):\n",
    "    w_hat = model_svm.coef_[0] / (np.sqrt(np.sum(model_svm.coef_[0] ** 2)))\n",
    "    # Step 3 (margin):\n",
    "    margin = 1 / np.sqrt(np.sum(model_svm.coef_[0] ** 2))\n",
    "    # Step 4 (calculate points of the margin lines):\n",
    "    decision_boundary_points = np.array(list(zip(x_points, y_points)))\n",
    "    points_of_line_above = decision_boundary_points + w_hat * margin\n",
    "    points_of_line_below = decision_boundary_points - w_hat * margin\n",
    "    # Plot margin lines\n",
    "    # Blue margin line above\n",
    "    plt.plot(points_of_line_above[:, 0], \n",
    "             points_of_line_above[:, 1], \n",
    "             'g--', \n",
    "             linewidth=2)\n",
    "    # Green margin line below\n",
    "    plt.plot(points_of_line_below[:, 0], \n",
    "             points_of_line_below[:, 1], \n",
    "             'g--',\n",
    "             linewidth=2)"
   ]
  },
  {
   "cell_type": "code",
   "execution_count": 2,
   "metadata": {},
   "outputs": [
    {
     "ename": "NameError",
     "evalue": "name 'model_svm' is not defined",
     "output_type": "error",
     "traceback": [
      "\u001b[0;31m---------------------------------------------------------------------------\u001b[0m",
      "\u001b[0;31mNameError\u001b[0m                                 Traceback (most recent call last)",
      "\u001b[0;32m<ipython-input-2-e2fc1149a5ab>\u001b[0m in \u001b[0;36m<module>\u001b[0;34m\u001b[0m\n\u001b[0;32m----> 1\u001b[0;31m \u001b[0msvm_draw\u001b[0m\u001b[0;34m(\u001b[0m\u001b[0mmodel_svm\u001b[0m\u001b[0;34m,\u001b[0m \u001b[0;36m9.3\u001b[0m\u001b[0;34m,\u001b[0m \u001b[0;36m10.7\u001b[0m\u001b[0;34m,\u001b[0m \u001b[0mdataset\u001b[0m\u001b[0;34m)\u001b[0m\u001b[0;34m\u001b[0m\u001b[0;34m\u001b[0m\u001b[0m\n\u001b[0m",
      "\u001b[0;31mNameError\u001b[0m: name 'model_svm' is not defined"
     ]
    }
   ],
   "source": [
    "svm_draw(model_svm, 9.3, 10.7, dataset)"
   ]
  },
  {
   "cell_type": "raw",
   "metadata": {},
   "source": [
    "Even if the dataset is linearly separable, this boundary is not very adapted. because C is very high the model favours no training error. a diagonal line would have been more adapted by it would have made a few errors, that are penalized by the high value of C"
   ]
  },
  {
   "cell_type": "raw",
   "metadata": {},
   "source": [
    "We will now try a smaller value of C to understand its influence.\n",
    "Questions : \n",
    " - Fit a model with C = 1\n",
    " - How many support vectors are selected ?\n",
    " - Plot the new boundary and margins\n",
    " - How many points are inside the margins ? on the margins ?\n",
    " - How many points from the dataset are misclassified ?\n",
    " - What are the values of h(x) for the support vectors ?"
   ]
  },
  {
   "cell_type": "code",
   "execution_count": null,
   "metadata": {},
   "outputs": [],
   "source": []
  },
  {
   "cell_type": "code",
   "execution_count": null,
   "metadata": {},
   "outputs": [],
   "source": []
  },
  {
   "cell_type": "code",
   "execution_count": null,
   "metadata": {},
   "outputs": [],
   "source": []
  },
  {
   "cell_type": "code",
   "execution_count": null,
   "metadata": {},
   "outputs": [],
   "source": []
  },
  {
   "cell_type": "code",
   "execution_count": null,
   "metadata": {},
   "outputs": [],
   "source": []
  },
  {
   "cell_type": "raw",
   "metadata": {},
   "source": [
    "Questions : Same questions for C = 0.01.\n",
    "you'll have to modify xmin and xmax in the svm_draw function to 3 and 17"
   ]
  },
  {
   "cell_type": "code",
   "execution_count": null,
   "metadata": {},
   "outputs": [],
   "source": []
  },
  {
   "cell_type": "code",
   "execution_count": null,
   "metadata": {},
   "outputs": [],
   "source": []
  },
  {
   "cell_type": "code",
   "execution_count": null,
   "metadata": {},
   "outputs": [],
   "source": []
  },
  {
   "cell_type": "code",
   "execution_count": null,
   "metadata": {},
   "outputs": [],
   "source": []
  },
  {
   "cell_type": "raw",
   "metadata": {},
   "source": [
    "Question : what can you conclude about the influence of C ?"
   ]
  },
  {
   "cell_type": "raw",
   "metadata": {},
   "source": []
  },
  {
   "cell_type": "markdown",
   "metadata": {},
   "source": [
    "# Exercise 2: Choosing C using train/val/test split"
   ]
  },
  {
   "cell_type": "raw",
   "metadata": {},
   "source": [
    "In this exercise, you will choose the best value of C (for a given dataset) by the same procedure as for the other algorithms: train/validation/test split"
   ]
  },
  {
   "cell_type": "code",
   "execution_count": 44,
   "metadata": {},
   "outputs": [
    {
     "data": {
      "text/html": [
       "<div>\n",
       "<style scoped>\n",
       "    .dataframe tbody tr th:only-of-type {\n",
       "        vertical-align: middle;\n",
       "    }\n",
       "\n",
       "    .dataframe tbody tr th {\n",
       "        vertical-align: top;\n",
       "    }\n",
       "\n",
       "    .dataframe thead th {\n",
       "        text-align: right;\n",
       "    }\n",
       "</style>\n",
       "<table border=\"1\" class=\"dataframe\">\n",
       "  <thead>\n",
       "    <tr style=\"text-align: right;\">\n",
       "      <th></th>\n",
       "      <th>crl.tot</th>\n",
       "      <th>dollar</th>\n",
       "      <th>bang</th>\n",
       "      <th>money</th>\n",
       "      <th>n000</th>\n",
       "      <th>make</th>\n",
       "      <th>yesno</th>\n",
       "    </tr>\n",
       "  </thead>\n",
       "  <tbody>\n",
       "    <tr>\n",
       "      <th>0</th>\n",
       "      <td>278</td>\n",
       "      <td>0.000</td>\n",
       "      <td>0.778</td>\n",
       "      <td>0.00</td>\n",
       "      <td>0.00</td>\n",
       "      <td>0.00</td>\n",
       "      <td>y</td>\n",
       "    </tr>\n",
       "    <tr>\n",
       "      <th>1</th>\n",
       "      <td>1028</td>\n",
       "      <td>0.180</td>\n",
       "      <td>0.372</td>\n",
       "      <td>0.43</td>\n",
       "      <td>0.43</td>\n",
       "      <td>0.21</td>\n",
       "      <td>y</td>\n",
       "    </tr>\n",
       "    <tr>\n",
       "      <th>2</th>\n",
       "      <td>2259</td>\n",
       "      <td>0.184</td>\n",
       "      <td>0.276</td>\n",
       "      <td>0.06</td>\n",
       "      <td>1.16</td>\n",
       "      <td>0.06</td>\n",
       "      <td>y</td>\n",
       "    </tr>\n",
       "    <tr>\n",
       "      <th>3</th>\n",
       "      <td>191</td>\n",
       "      <td>0.000</td>\n",
       "      <td>0.137</td>\n",
       "      <td>0.00</td>\n",
       "      <td>0.00</td>\n",
       "      <td>0.00</td>\n",
       "      <td>y</td>\n",
       "    </tr>\n",
       "    <tr>\n",
       "      <th>4</th>\n",
       "      <td>191</td>\n",
       "      <td>0.000</td>\n",
       "      <td>0.135</td>\n",
       "      <td>0.00</td>\n",
       "      <td>0.00</td>\n",
       "      <td>0.00</td>\n",
       "      <td>y</td>\n",
       "    </tr>\n",
       "    <tr>\n",
       "      <th>...</th>\n",
       "      <td>...</td>\n",
       "      <td>...</td>\n",
       "      <td>...</td>\n",
       "      <td>...</td>\n",
       "      <td>...</td>\n",
       "      <td>...</td>\n",
       "      <td>...</td>\n",
       "    </tr>\n",
       "    <tr>\n",
       "      <th>4596</th>\n",
       "      <td>88</td>\n",
       "      <td>0.000</td>\n",
       "      <td>0.000</td>\n",
       "      <td>0.00</td>\n",
       "      <td>0.00</td>\n",
       "      <td>0.31</td>\n",
       "      <td>n</td>\n",
       "    </tr>\n",
       "    <tr>\n",
       "      <th>4597</th>\n",
       "      <td>14</td>\n",
       "      <td>0.000</td>\n",
       "      <td>0.353</td>\n",
       "      <td>0.00</td>\n",
       "      <td>0.00</td>\n",
       "      <td>0.00</td>\n",
       "      <td>n</td>\n",
       "    </tr>\n",
       "    <tr>\n",
       "      <th>4598</th>\n",
       "      <td>118</td>\n",
       "      <td>0.000</td>\n",
       "      <td>0.000</td>\n",
       "      <td>0.00</td>\n",
       "      <td>0.00</td>\n",
       "      <td>0.30</td>\n",
       "      <td>n</td>\n",
       "    </tr>\n",
       "    <tr>\n",
       "      <th>4599</th>\n",
       "      <td>78</td>\n",
       "      <td>0.000</td>\n",
       "      <td>0.000</td>\n",
       "      <td>0.00</td>\n",
       "      <td>0.00</td>\n",
       "      <td>0.96</td>\n",
       "      <td>n</td>\n",
       "    </tr>\n",
       "    <tr>\n",
       "      <th>4600</th>\n",
       "      <td>40</td>\n",
       "      <td>0.000</td>\n",
       "      <td>0.125</td>\n",
       "      <td>0.00</td>\n",
       "      <td>0.00</td>\n",
       "      <td>0.00</td>\n",
       "      <td>n</td>\n",
       "    </tr>\n",
       "  </tbody>\n",
       "</table>\n",
       "<p>4601 rows × 7 columns</p>\n",
       "</div>"
      ],
      "text/plain": [
       "      crl.tot  dollar   bang  money  n000  make yesno\n",
       "0         278   0.000  0.778   0.00  0.00  0.00     y\n",
       "1        1028   0.180  0.372   0.43  0.43  0.21     y\n",
       "2        2259   0.184  0.276   0.06  1.16  0.06     y\n",
       "3         191   0.000  0.137   0.00  0.00  0.00     y\n",
       "4         191   0.000  0.135   0.00  0.00  0.00     y\n",
       "...       ...     ...    ...    ...   ...   ...   ...\n",
       "4596       88   0.000  0.000   0.00  0.00  0.31     n\n",
       "4597       14   0.000  0.353   0.00  0.00  0.00     n\n",
       "4598      118   0.000  0.000   0.00  0.00  0.30     n\n",
       "4599       78   0.000  0.000   0.00  0.00  0.96     n\n",
       "4600       40   0.000  0.125   0.00  0.00  0.00     n\n",
       "\n",
       "[4601 rows x 7 columns]"
      ]
     },
     "execution_count": 44,
     "metadata": {},
     "output_type": "execute_result"
    }
   ],
   "source": [
    "# Load the dataset\n",
    "dataset = pd.read_csv(\"spam7.csv\", decimal=\",\", index_col=0, delimiter = \";\")\n",
    "dataset\n",
    "# A description about this dataset is given here:\n",
    "# http://math.furman.edu/~dcs/courses/math47/R/library/DAAG/html/spam7.html"
   ]
  },
  {
   "cell_type": "raw",
   "metadata": {},
   "source": [
    "Question : How many examples ? How many features ? What is the distribution of the target"
   ]
  },
  {
   "cell_type": "code",
   "execution_count": null,
   "metadata": {},
   "outputs": [],
   "source": []
  },
  {
   "cell_type": "raw",
   "metadata": {},
   "source": [
    "SVM can be very long to fit when the dataset is big (number of examples, number of features).\n",
    "It is better to scale the features before fitting a model. A classical scaling is the standard scaler, which removes the mean and divide by the standard deviation. Hence, after this operation, each feature has a mean of zero and a standard deviation of 1. We are going to do this in the next cells"
   ]
  },
  {
   "cell_type": "code",
   "execution_count": 49,
   "metadata": {},
   "outputs": [
    {
     "name": "stdout",
     "output_type": "stream",
     "text": [
      "1.1906098314983634e-14\n"
     ]
    }
   ],
   "source": [
    "from sklearn.preprocessing import StandardScaler\n",
    "# First, get the features\n",
    "X = dataset.iloc[:,0:6]\n",
    "# then create a scaler on X\n",
    "scaler = StandardScaler().fit(X)\n",
    "# Apply it to X\n",
    "X = scaler.transform(X)\n",
    "# create a dataframe with X\n",
    "X = pd.DataFrame(X, columns=dataset.columns[0:6])\n",
    "X\n",
    "# You should see that the features have been transformed\n",
    "print(X.dollar.mean())\n",
    "# the mean of feature 'dollar' is now 0 (very close to 0)\n",
    "# it is the same for the other features"
   ]
  },
  {
   "cell_type": "code",
   "execution_count": 51,
   "metadata": {},
   "outputs": [
    {
     "data": {
      "text/html": [
       "<div>\n",
       "<style scoped>\n",
       "    .dataframe tbody tr th:only-of-type {\n",
       "        vertical-align: middle;\n",
       "    }\n",
       "\n",
       "    .dataframe tbody tr th {\n",
       "        vertical-align: top;\n",
       "    }\n",
       "\n",
       "    .dataframe thead th {\n",
       "        text-align: right;\n",
       "    }\n",
       "</style>\n",
       "<table border=\"1\" class=\"dataframe\">\n",
       "  <thead>\n",
       "    <tr style=\"text-align: right;\">\n",
       "      <th></th>\n",
       "      <th>crl.tot</th>\n",
       "      <th>dollar</th>\n",
       "      <th>bang</th>\n",
       "      <th>money</th>\n",
       "      <th>n000</th>\n",
       "      <th>make</th>\n",
       "      <th>yesno</th>\n",
       "    </tr>\n",
       "  </thead>\n",
       "  <tbody>\n",
       "    <tr>\n",
       "      <th>0</th>\n",
       "      <td>-0.008724</td>\n",
       "      <td>-0.308355</td>\n",
       "      <td>0.624007</td>\n",
       "      <td>-0.212994</td>\n",
       "      <td>-0.290209</td>\n",
       "      <td>-0.342434</td>\n",
       "      <td>y</td>\n",
       "    </tr>\n",
       "    <tr>\n",
       "      <th>1</th>\n",
       "      <td>1.228324</td>\n",
       "      <td>0.423783</td>\n",
       "      <td>0.126203</td>\n",
       "      <td>0.758565</td>\n",
       "      <td>0.937491</td>\n",
       "      <td>0.345359</td>\n",
       "      <td>y</td>\n",
       "    </tr>\n",
       "    <tr>\n",
       "      <th>2</th>\n",
       "      <td>3.258733</td>\n",
       "      <td>0.440053</td>\n",
       "      <td>0.008496</td>\n",
       "      <td>-0.077428</td>\n",
       "      <td>3.021726</td>\n",
       "      <td>-0.145921</td>\n",
       "      <td>y</td>\n",
       "    </tr>\n",
       "    <tr>\n",
       "      <th>3</th>\n",
       "      <td>-0.152222</td>\n",
       "      <td>-0.308355</td>\n",
       "      <td>-0.161934</td>\n",
       "      <td>-0.212994</td>\n",
       "      <td>-0.290209</td>\n",
       "      <td>-0.342434</td>\n",
       "      <td>y</td>\n",
       "    </tr>\n",
       "    <tr>\n",
       "      <th>4</th>\n",
       "      <td>-0.152222</td>\n",
       "      <td>-0.308355</td>\n",
       "      <td>-0.164387</td>\n",
       "      <td>-0.212994</td>\n",
       "      <td>-0.290209</td>\n",
       "      <td>-0.342434</td>\n",
       "      <td>y</td>\n",
       "    </tr>\n",
       "    <tr>\n",
       "      <th>...</th>\n",
       "      <td>...</td>\n",
       "      <td>...</td>\n",
       "      <td>...</td>\n",
       "      <td>...</td>\n",
       "      <td>...</td>\n",
       "      <td>...</td>\n",
       "      <td>...</td>\n",
       "    </tr>\n",
       "    <tr>\n",
       "      <th>4596</th>\n",
       "      <td>-0.322110</td>\n",
       "      <td>-0.308355</td>\n",
       "      <td>-0.329912</td>\n",
       "      <td>-0.212994</td>\n",
       "      <td>-0.290209</td>\n",
       "      <td>0.672880</td>\n",
       "      <td>n</td>\n",
       "    </tr>\n",
       "    <tr>\n",
       "      <th>4597</th>\n",
       "      <td>-0.444165</td>\n",
       "      <td>-0.308355</td>\n",
       "      <td>0.102907</td>\n",
       "      <td>-0.212994</td>\n",
       "      <td>-0.290209</td>\n",
       "      <td>-0.342434</td>\n",
       "      <td>n</td>\n",
       "    </tr>\n",
       "    <tr>\n",
       "      <th>4598</th>\n",
       "      <td>-0.272628</td>\n",
       "      <td>-0.308355</td>\n",
       "      <td>-0.329912</td>\n",
       "      <td>-0.212994</td>\n",
       "      <td>-0.290209</td>\n",
       "      <td>0.640128</td>\n",
       "      <td>n</td>\n",
       "    </tr>\n",
       "    <tr>\n",
       "      <th>4599</th>\n",
       "      <td>-0.338604</td>\n",
       "      <td>-0.308355</td>\n",
       "      <td>-0.329912</td>\n",
       "      <td>-0.212994</td>\n",
       "      <td>-0.290209</td>\n",
       "      <td>2.801763</td>\n",
       "      <td>n</td>\n",
       "    </tr>\n",
       "    <tr>\n",
       "      <th>4600</th>\n",
       "      <td>-0.401281</td>\n",
       "      <td>-0.308355</td>\n",
       "      <td>-0.176648</td>\n",
       "      <td>-0.212994</td>\n",
       "      <td>-0.290209</td>\n",
       "      <td>-0.342434</td>\n",
       "      <td>n</td>\n",
       "    </tr>\n",
       "  </tbody>\n",
       "</table>\n",
       "<p>4601 rows × 7 columns</p>\n",
       "</div>"
      ],
      "text/plain": [
       "       crl.tot    dollar      bang     money      n000      make yesno\n",
       "0    -0.008724 -0.308355  0.624007 -0.212994 -0.290209 -0.342434     y\n",
       "1     1.228324  0.423783  0.126203  0.758565  0.937491  0.345359     y\n",
       "2     3.258733  0.440053  0.008496 -0.077428  3.021726 -0.145921     y\n",
       "3    -0.152222 -0.308355 -0.161934 -0.212994 -0.290209 -0.342434     y\n",
       "4    -0.152222 -0.308355 -0.164387 -0.212994 -0.290209 -0.342434     y\n",
       "...        ...       ...       ...       ...       ...       ...   ...\n",
       "4596 -0.322110 -0.308355 -0.329912 -0.212994 -0.290209  0.672880     n\n",
       "4597 -0.444165 -0.308355  0.102907 -0.212994 -0.290209 -0.342434     n\n",
       "4598 -0.272628 -0.308355 -0.329912 -0.212994 -0.290209  0.640128     n\n",
       "4599 -0.338604 -0.308355 -0.329912 -0.212994 -0.290209  2.801763     n\n",
       "4600 -0.401281 -0.308355 -0.176648 -0.212994 -0.290209 -0.342434     n\n",
       "\n",
       "[4601 rows x 7 columns]"
      ]
     },
     "execution_count": 51,
     "metadata": {},
     "output_type": "execute_result"
    }
   ],
   "source": [
    "# Now we will add the target variable inside X\n",
    "X['yesno'] = dataset.yesno\n",
    "X\n",
    "# now our dataset is called X"
   ]
  },
  {
   "cell_type": "raw",
   "metadata": {},
   "source": [
    "Question : Split this dataset into training/validation/test "
   ]
  },
  {
   "cell_type": "code",
   "execution_count": null,
   "metadata": {},
   "outputs": [],
   "source": []
  },
  {
   "cell_type": "code",
   "execution_count": null,
   "metadata": {},
   "outputs": [],
   "source": []
  },
  {
   "cell_type": "raw",
   "metadata": {},
   "source": [
    "Questions: \n",
    " - Fit a first linear SVM model with C = 1\n",
    " - How many support vectors are selected ?\n",
    " - What is the performance of this model on the training set ? on the validation set ?\n",
    " - What is the confusion matrix of the predictions of the validation set ? What kind of errors is more often made? (check confusion_matrix function for that"
   ]
  },
  {
   "cell_type": "code",
   "execution_count": null,
   "metadata": {},
   "outputs": [],
   "source": []
  },
  {
   "cell_type": "code",
   "execution_count": null,
   "metadata": {},
   "outputs": [],
   "source": []
  },
  {
   "cell_type": "code",
   "execution_count": null,
   "metadata": {},
   "outputs": [],
   "source": []
  },
  {
   "cell_type": "code",
   "execution_count": null,
   "metadata": {},
   "outputs": [],
   "source": []
  },
  {
   "cell_type": "code",
   "execution_count": null,
   "metadata": {},
   "outputs": [],
   "source": []
  },
  {
   "cell_type": "raw",
   "metadata": {},
   "source": [
    "Question : Now try different values of C (between 0.01 and 1000 for instance) and compute the training and validation scores for each value of C. Select the best value of C and estimate the generalization error of the selected SVM"
   ]
  },
  {
   "cell_type": "code",
   "execution_count": null,
   "metadata": {},
   "outputs": [],
   "source": []
  },
  {
   "cell_type": "code",
   "execution_count": null,
   "metadata": {},
   "outputs": [],
   "source": []
  },
  {
   "cell_type": "markdown",
   "metadata": {},
   "source": [
    "# Exercise 3: Non-linear SVM"
   ]
  },
  {
   "cell_type": "code",
   "execution_count": 209,
   "metadata": {},
   "outputs": [
    {
     "data": {
      "text/html": [
       "<div>\n",
       "<style scoped>\n",
       "    .dataframe tbody tr th:only-of-type {\n",
       "        vertical-align: middle;\n",
       "    }\n",
       "\n",
       "    .dataframe tbody tr th {\n",
       "        vertical-align: top;\n",
       "    }\n",
       "\n",
       "    .dataframe thead th {\n",
       "        text-align: right;\n",
       "    }\n",
       "</style>\n",
       "<table border=\"1\" class=\"dataframe\">\n",
       "  <thead>\n",
       "    <tr style=\"text-align: right;\">\n",
       "      <th></th>\n",
       "      <th>x1</th>\n",
       "      <th>x2</th>\n",
       "      <th>y</th>\n",
       "    </tr>\n",
       "  </thead>\n",
       "  <tbody>\n",
       "    <tr>\n",
       "      <th>0</th>\n",
       "      <td>1.5</td>\n",
       "      <td>4.0</td>\n",
       "      <td>1</td>\n",
       "    </tr>\n",
       "    <tr>\n",
       "      <th>1</th>\n",
       "      <td>1.0</td>\n",
       "      <td>2.0</td>\n",
       "      <td>1</td>\n",
       "    </tr>\n",
       "    <tr>\n",
       "      <th>2</th>\n",
       "      <td>0.0</td>\n",
       "      <td>0.0</td>\n",
       "      <td>1</td>\n",
       "    </tr>\n",
       "    <tr>\n",
       "      <th>3</th>\n",
       "      <td>1.0</td>\n",
       "      <td>4.0</td>\n",
       "      <td>1</td>\n",
       "    </tr>\n",
       "    <tr>\n",
       "      <th>4</th>\n",
       "      <td>0.5</td>\n",
       "      <td>3.0</td>\n",
       "      <td>1</td>\n",
       "    </tr>\n",
       "    <tr>\n",
       "      <th>...</th>\n",
       "      <td>...</td>\n",
       "      <td>...</td>\n",
       "      <td>...</td>\n",
       "    </tr>\n",
       "    <tr>\n",
       "      <th>145</th>\n",
       "      <td>-2.8</td>\n",
       "      <td>-3.3</td>\n",
       "      <td>0</td>\n",
       "    </tr>\n",
       "    <tr>\n",
       "      <th>146</th>\n",
       "      <td>-2.8</td>\n",
       "      <td>1.0</td>\n",
       "      <td>0</td>\n",
       "    </tr>\n",
       "    <tr>\n",
       "      <th>147</th>\n",
       "      <td>-2.8</td>\n",
       "      <td>3.0</td>\n",
       "      <td>0</td>\n",
       "    </tr>\n",
       "    <tr>\n",
       "      <th>148</th>\n",
       "      <td>-2.4</td>\n",
       "      <td>3.0</td>\n",
       "      <td>0</td>\n",
       "    </tr>\n",
       "    <tr>\n",
       "      <th>149</th>\n",
       "      <td>-2.3</td>\n",
       "      <td>5.0</td>\n",
       "      <td>0</td>\n",
       "    </tr>\n",
       "  </tbody>\n",
       "</table>\n",
       "<p>150 rows × 3 columns</p>\n",
       "</div>"
      ],
      "text/plain": [
       "      x1   x2  y\n",
       "0    1.5  4.0  1\n",
       "1    1.0  2.0  1\n",
       "2    0.0  0.0  1\n",
       "3    1.0  4.0  1\n",
       "4    0.5  3.0  1\n",
       "..   ...  ... ..\n",
       "145 -2.8 -3.3  0\n",
       "146 -2.8  1.0  0\n",
       "147 -2.8  3.0  0\n",
       "148 -2.4  3.0  0\n",
       "149 -2.3  5.0  0\n",
       "\n",
       "[150 rows x 3 columns]"
      ]
     },
     "execution_count": 209,
     "metadata": {},
     "output_type": "execute_result"
    }
   ],
   "source": [
    "# Load a dataset\n",
    "dataset = pd.read_csv(\"SepNonLineaire.csv\")\n",
    "dataset\n"
   ]
  },
  {
   "cell_type": "raw",
   "metadata": {},
   "source": [
    "Question : How many examples? features? distribution of the target values ?"
   ]
  },
  {
   "cell_type": "code",
   "execution_count": null,
   "metadata": {},
   "outputs": [],
   "source": []
  },
  {
   "cell_type": "raw",
   "metadata": {},
   "source": [
    "Question : Plot this dataset with different colours for the values of y"
   ]
  },
  {
   "cell_type": "code",
   "execution_count": null,
   "metadata": {},
   "outputs": [],
   "source": []
  },
  {
   "cell_type": "raw",
   "metadata": {},
   "source": [
    "Question : Is this dataset linearly separable ?"
   ]
  },
  {
   "cell_type": "raw",
   "metadata": {},
   "source": []
  },
  {
   "cell_type": "raw",
   "metadata": {},
   "source": [
    "Question : Split this dataset into training/validation/test "
   ]
  },
  {
   "cell_type": "code",
   "execution_count": null,
   "metadata": {},
   "outputs": [],
   "source": []
  },
  {
   "cell_type": "raw",
   "metadata": {},
   "source": [
    "We will apply a radial SVM (with rbf kernel).\n",
    "For this, you just need to specify kernel = 'rbf' rather than kernel = 'linear'\n",
    "And you'll need to set also a value for gamma (otherwise there is a default value)\n",
    "Questions:\n",
    " - Fit a rbf SVM with C = 1 and gamma = 10\n",
    " - Compute train and validation scores\n",
    " - Plot the decision boundaries and the margins using the function draw_boundary above\n",
    " - What phenomenon can you observe here ?"
   ]
  },
  {
   "cell_type": "code",
   "execution_count": null,
   "metadata": {},
   "outputs": [],
   "source": []
  },
  {
   "cell_type": "code",
   "execution_count": null,
   "metadata": {},
   "outputs": [],
   "source": []
  },
  {
   "cell_type": "code",
   "execution_count": 233,
   "metadata": {},
   "outputs": [],
   "source": [
    "def draw_boundary(model, data, x_min, x_max, y_min, y_max):\n",
    "    h = 0.1\n",
    "    xx, yy = np.meshgrid(np.arange(x_min, x_max, h), np.arange(y_min, y_max, h))\n",
    "    zz = np.c_[xx.ravel(), yy.ravel()]\n",
    "    zz = pd.DataFrame(zz)\n",
    "    zz2 = zz\n",
    "    pred_zz= pd.Series(model.predict(zz2))\n",
    "    color_map = matplotlib.colors.ListedColormap(pd.Series(['blue', 'red']))\n",
    "    fig = plt.figure(figsize=  (8,8))\n",
    "    fig = plt.scatter(zz.iloc[:,0], zz.iloc[:,1], c = pred_zz, cmap = color_map, marker='+')\n",
    "    fig = plt.scatter(data.iloc[:,0], data.iloc[:,1], s = 50, c = data.iloc[:,2], cmap = color_map)\n",
    "    "
   ]
  },
  {
   "cell_type": "code",
   "execution_count": 5,
   "metadata": {},
   "outputs": [
    {
     "ename": "NameError",
     "evalue": "name 'draw_boundary' is not defined",
     "output_type": "error",
     "traceback": [
      "\u001b[0;31m---------------------------------------------------------------------------\u001b[0m",
      "\u001b[0;31mNameError\u001b[0m                                 Traceback (most recent call last)",
      "\u001b[0;32m<ipython-input-5-8eb71043b1c1>\u001b[0m in \u001b[0;36m<module>\u001b[0;34m\u001b[0m\n\u001b[0;32m----> 1\u001b[0;31m \u001b[0mdraw_boundary\u001b[0m\u001b[0;34m(\u001b[0m\u001b[0mmodel_svm\u001b[0m\u001b[0;34m,\u001b[0m \u001b[0mdata_train\u001b[0m\u001b[0;34m,\u001b[0m \u001b[0;34m-\u001b[0m\u001b[0;36m3\u001b[0m\u001b[0;34m,\u001b[0m\u001b[0;36m4\u001b[0m\u001b[0;34m,\u001b[0m\u001b[0;34m-\u001b[0m\u001b[0;36m5\u001b[0m\u001b[0;34m,\u001b[0m\u001b[0;36m9\u001b[0m\u001b[0;34m)\u001b[0m\u001b[0;34m\u001b[0m\u001b[0;34m\u001b[0m\u001b[0m\n\u001b[0m",
      "\u001b[0;31mNameError\u001b[0m: name 'draw_boundary' is not defined"
     ]
    }
   ],
   "source": [
    "draw_boundary(model_svm, data_train, -3,4,-5,9)"
   ]
  },
  {
   "cell_type": "raw",
   "metadata": {},
   "source": [
    "Questions :\n",
    "    - Try now to modify C and gamma to have a better decision boundary\n",
    "    - Choose the best values of C and gamma \n",
    "    - Estimate the generalization error of this SVM"
   ]
  },
  {
   "cell_type": "code",
   "execution_count": null,
   "metadata": {},
   "outputs": [],
   "source": []
  },
  {
   "cell_type": "code",
   "execution_count": null,
   "metadata": {},
   "outputs": [],
   "source": []
  },
  {
   "cell_type": "raw",
   "metadata": {},
   "source": [
    "You can also try polynomial kernels by specifying kernel = 'poly'. You'll have to tune the parameter degree with his kernel"
   ]
  },
  {
   "cell_type": "code",
   "execution_count": null,
   "metadata": {},
   "outputs": [],
   "source": []
  },
  {
   "cell_type": "code",
   "execution_count": null,
   "metadata": {},
   "outputs": [],
   "source": []
  }
 ],
 "metadata": {
  "kernelspec": {
   "display_name": "Python 3",
   "language": "python",
   "name": "python3"
  },
  "language_info": {
   "codemirror_mode": {
    "name": "ipython",
    "version": 3
   },
   "file_extension": ".py",
   "mimetype": "text/x-python",
   "name": "python",
   "nbconvert_exporter": "python",
   "pygments_lexer": "ipython3",
   "version": "3.7.4"
  }
 },
 "nbformat": 4,
 "nbformat_minor": 4
}
