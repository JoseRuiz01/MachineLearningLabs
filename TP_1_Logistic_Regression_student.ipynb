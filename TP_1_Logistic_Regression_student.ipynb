{
 "cells": [
  {
   "cell_type": "code",
   "execution_count": 11,
   "id": "8795994e",
   "metadata": {},
   "outputs": [],
   "source": [
    "import numpy as np\n",
    "import pandas as pd\n",
    "import matplotlib.pyplot as plt\n",
    "import matplotlib\n",
    "from sklearn.model_selection import train_test_split\n",
    "import math\n",
    "import random\n",
    "from random import uniform\n",
    "from sklearn import preprocessing\n",
    "from sklearn.preprocessing import PolynomialFeatures\n",
    "from sklearn.linear_model import LogisticRegression"
   ]
  },
  {
   "cell_type": "markdown",
   "id": "55187218",
   "metadata": {},
   "source": [
    "# Exercise 1 : Binary classification using logistic regression"
   ]
  },
  {
   "cell_type": "markdown",
   "id": "6ca65af7",
   "metadata": {},
   "source": [
    "## Load data and inspection of the data"
   ]
  },
  {
   "cell_type": "code",
   "execution_count": 8,
   "id": "0399919a",
   "metadata": {},
   "outputs": [],
   "source": [
    "# We will load the data that is in the file 'donnees_exo1.txt'\n",
    "data = pd.read_csv('donnees_exo1.txt', sep = ' ')"
   ]
  },
  {
   "cell_type": "code",
   "execution_count": null,
   "id": "5787f152",
   "metadata": {},
   "outputs": [],
   "source": [
    "data"
   ]
  },
  {
   "cell_type": "markdown",
   "id": "c3eb1067",
   "metadata": {},
   "source": [
    "Questions : \n",
    "1. How many examples are available in this dataset ? \n",
    "2. How many features ? \n",
    "3. What is the distribution of the target variable ?\n",
    "\n",
    "*Hint : value_counts can help for the last question*"
   ]
  },
  {
   "cell_type": "code",
   "execution_count": null,
   "id": "86940e7b",
   "metadata": {},
   "outputs": [],
   "source": []
  },
  {
   "cell_type": "markdown",
   "id": "137723d9",
   "metadata": {},
   "source": [
    "Exercise: Plot on the same graph this dataset with different colors depending on the class value.\n",
    "\n",
    "X1 should be on the x-axis, X2 on the y-axis and the points colored depending on the class value (0 or 1)\n",
    "\n",
    "*Hints:* \n",
    "- *You can use scatter function for the plot*\n",
    "- *There are different possibilities for the colors: you can create two sets (one with class 0 and one with class 1) or use colorMaps (look at the documentation)* "
   ]
  },
  {
   "cell_type": "code",
   "execution_count": null,
   "id": "60bb4638",
   "metadata": {},
   "outputs": [],
   "source": []
  },
  {
   "cell_type": "markdown",
   "id": "25f891d9",
   "metadata": {},
   "source": [
    "## Train / Validation / Test split"
   ]
  },
  {
   "cell_type": "markdown",
   "id": "c7f6ac82",
   "metadata": {},
   "source": [
    "Exercise : Split the dataset into 3 sets : train (70%), validation (15%) and test (15%).\n",
    "\n",
    "*Hint : you can use the 'train_test_split' function that splits a set in 2 sets with a proportion that you can give as parameter. To split into 3 sets, you'll need to use it twice (be careful about the proportions)*"
   ]
  },
  {
   "cell_type": "code",
   "execution_count": null,
   "id": "cae4814b",
   "metadata": {},
   "outputs": [],
   "source": []
  },
  {
   "cell_type": "markdown",
   "id": "6b6770b5",
   "metadata": {},
   "source": [
    "Exercise : Plot on the same graph the train and validation data with different colors for the class values and different markers between train and validation set."
   ]
  },
  {
   "cell_type": "code",
   "execution_count": null,
   "id": "ad79fad5",
   "metadata": {},
   "outputs": [],
   "source": []
  },
  {
   "cell_type": "markdown",
   "id": "48671a39",
   "metadata": {},
   "source": [
    "## Fitting a logistic regression model"
   ]
  },
  {
   "cell_type": "markdown",
   "id": "1a735a63",
   "metadata": {},
   "source": [
    "We will now fit a logistic regression model to the training set.\n",
    "For this, we can use the command on the next cell:"
   ]
  },
  {
   "cell_type": "code",
   "execution_count": null,
   "id": "0624fccf",
   "metadata": {},
   "outputs": [],
   "source": [
    "lr_model = LogisticRegression().fit(train_data.iloc[:,0:2], train_data.Y)\n",
    "# Parameters can be added to the 'LogisticRegression' call (we will see this later when we'll need)\n",
    "# 2 parameters are given to the 'fit' function : \n",
    "#  - a dataset containing the features of the examples (here X1 and X2, the 2 first columns of the training set)\n",
    "#  - a vector containing the labels (Y) of the examples (in the same order), 0 or 1 here"
   ]
  },
  {
   "cell_type": "markdown",
   "id": "f615f7fe",
   "metadata": {},
   "source": [
    "Question : How many parameters should have this model ?"
   ]
  },
  {
   "cell_type": "markdown",
   "id": "475918e5",
   "metadata": {},
   "source": []
  },
  {
   "cell_type": "markdown",
   "id": "08130179",
   "metadata": {},
   "source": [
    "The constant of the model (theta_0 in the slides) can be obtained by the command:"
   ]
  },
  {
   "cell_type": "code",
   "execution_count": null,
   "id": "e09e2d21",
   "metadata": {},
   "outputs": [],
   "source": [
    "lr_model.intercept_"
   ]
  },
  {
   "cell_type": "markdown",
   "id": "5f1d4d33",
   "metadata": {},
   "source": [
    "The parameters associated to each feature can be obtained by the command:"
   ]
  },
  {
   "cell_type": "code",
   "execution_count": null,
   "id": "e4fa50dc",
   "metadata": {},
   "outputs": [],
   "source": [
    "lr_model.coef_"
   ]
  },
  {
   "cell_type": "markdown",
   "id": "f559fe00",
   "metadata": {},
   "source": [
    "Using the values of the features for the first example of the training set (row 0) and the values of the parameters of the model above, calculate the output that the model should give (using the equation of the logistic regression model).\n",
    "\n",
    "*Hint : exponential can be obtained with math.exp()*"
   ]
  },
  {
   "cell_type": "code",
   "execution_count": null,
   "id": "8e8050a5",
   "metadata": {},
   "outputs": [],
   "source": []
  },
  {
   "cell_type": "markdown",
   "id": "6bcec6c7",
   "metadata": {},
   "source": [
    "What shoud be the decision made by this model for this example ?"
   ]
  },
  {
   "cell_type": "code",
   "execution_count": null,
   "id": "71f2631c",
   "metadata": {},
   "outputs": [],
   "source": []
  },
  {
   "cell_type": "markdown",
   "id": "627e63ef",
   "metadata": {},
   "source": [
    "It is possible to obtain automatically this value by the command:"
   ]
  },
  {
   "cell_type": "code",
   "execution_count": null,
   "id": "cd6a1551",
   "metadata": {},
   "outputs": [],
   "source": [
    "lr_model.predict_proba(train_data.iloc[0:1,0:2])\n",
    "# actually this command gives you the two probabilities : P(Y = 0 | X1, X2) and P(Y = 1 | X1, X2)\n",
    "# You should obtain the same probability than the one calculated above"
   ]
  },
  {
   "cell_type": "code",
   "execution_count": null,
   "id": "839a0565",
   "metadata": {},
   "outputs": [],
   "source": [
    "# The final decision of the model can be obtained by the command:\n",
    "lr_model.predict(train_data.iloc[0:1,0:2])"
   ]
  },
  {
   "cell_type": "markdown",
   "id": "7578e27d",
   "metadata": {},
   "source": [
    "Question : Does this model make a good decision for this example ?"
   ]
  },
  {
   "cell_type": "code",
   "execution_count": null,
   "id": "a4272b63",
   "metadata": {},
   "outputs": [],
   "source": []
  },
  {
   "cell_type": "markdown",
   "id": "491f045f",
   "metadata": {},
   "source": [
    "The accuracy of a classifier on a dataset (percentage of good prediction made for all the examples of the dataset) can be obtained automatically by the function 'score' applied to a classifier.\n",
    "It needs two 2 parameters : \n",
    " - a dataset containing the examples that we want to predict (their features)\n",
    " - the real class of these examples.\n",
    " Below, you will see how to compute the accuracy of the model 'lr_model' on the training set"
   ]
  },
  {
   "cell_type": "code",
   "execution_count": null,
   "id": "9089c8c9",
   "metadata": {},
   "outputs": [],
   "source": [
    "lr_model.score(train_data.iloc[:,0:2], train_data.Y)"
   ]
  },
  {
   "cell_type": "markdown",
   "id": "4a8d9c50",
   "metadata": {},
   "source": [
    "Exercise : Compute the accuracy of this model on the validation set "
   ]
  },
  {
   "cell_type": "code",
   "execution_count": null,
   "id": "48010581",
   "metadata": {},
   "outputs": [],
   "source": []
  },
  {
   "cell_type": "markdown",
   "id": "1b6517af",
   "metadata": {},
   "source": [
    "## Visualization of the decision boundary"
   ]
  },
  {
   "cell_type": "markdown",
   "id": "233a2559",
   "metadata": {},
   "source": [
    "The function below allows you to see the decision boundary of a logisic regression model.\n",
    "There are 7 parameters : \n",
    " - model : a logistic regression model already fitted\n",
    " - data : the data points that you want to draw together with the boundary (training set for instance)\n",
    " - deg : the degree of the polynomial features used in the model (1 if it is a classical model). These polynomial features will be discussed later\n",
    " - xmin, xmax, ymin, ymax : the min and max coordinates that you want to be displayed (depends on the data)\n",
    "\n",
    "An example of the use of this function is given after. "
   ]
  },
  {
   "cell_type": "code",
   "execution_count": null,
   "id": "201ea930",
   "metadata": {},
   "outputs": [],
   "source": [
    "def draw_boundary(model, data, deg, xmin, xmax, ymin, ymax):\n",
    "    h = 0.05\n",
    "\n",
    "    # create a grid of points from xmin to xmax and from ymin to ymax with a step h\n",
    "    xx, yy = np.meshgrid(np.arange(xmin, xmax, h), np.arange(ymin, ymax, h))\n",
    "\n",
    "    zz = np.c_[xx.ravel(), yy.ravel()] # create a matrix containing the grid points\n",
    "    zz = pd.DataFrame(zz) # convert it to a dataframe to be able to use it with the model\n",
    "    \n",
    "    # adjust the points to the desired degree\n",
    "    if(deg>1):\n",
    "        poly = PolynomialFeatures(degree = deg)\n",
    "        zz2 = poly.fit_transform(zz)\n",
    "        zz2 = pd.DataFrame(zz2)\n",
    "    else:\n",
    "        zz2 = zz\n",
    "\n",
    "    # predict the class of each point of the grid\n",
    "    pred_zz= pd.Series(model.predict(zz2))\n",
    "\n",
    "    color_map = matplotlib.colors.ListedColormap(pd.Series(['blue', 'red']))\n",
    "    fig = plt.figure(figsize=(8,8))\n",
    "\n",
    "    # plot a grid of points to show where the decision boundary is\n",
    "    fig = plt.scatter(zz.iloc[:,0], zz.iloc[:,1], c = pred_zz, cmap = color_map, marker='+')\n",
    "\n",
    "    # plot the dataset points\n",
    "    fig = plt.scatter(data.iloc[:,0], data.iloc[:,1], s = 50, c = data.iloc[:,2], cmap = color_map)\n",
    "\n",
    "    plt.xlabel('X1')\n",
    "    plt.ylabel('X2')\n",
    "    plt.title('Decision boundary of degree ' + str(deg))\n",
    "    plt.show()\n",
    "    "
   ]
  },
  {
   "cell_type": "code",
   "execution_count": null,
   "id": "84191c4f",
   "metadata": {},
   "outputs": [],
   "source": [
    "draw_boundary(lr_model, train_data, 1, -1.2, 1.2, -1.2, 1.2)"
   ]
  },
  {
   "cell_type": "markdown",
   "id": "a36ef732",
   "metadata": {},
   "source": [
    "Questions : \n",
    "1. What is the type of this decision boundary ? \n",
    "2. Was it expected ? \n",
    "3. Does it seem adapted to this dataset ?"
   ]
  },
  {
   "cell_type": "code",
   "execution_count": null,
   "id": "23a3fe8c",
   "metadata": {},
   "outputs": [],
   "source": []
  },
  {
   "cell_type": "markdown",
   "id": "9de76327",
   "metadata": {},
   "source": [
    "We will now see how to add polynomial features to the dataset before fitting a linear regression model:"
   ]
  },
  {
   "cell_type": "code",
   "execution_count": null,
   "id": "3803c2b1",
   "metadata": {},
   "outputs": [],
   "source": [
    "poly = PolynomialFeatures(degree = 2) # Here we create an object that will be used to add polynomial features.\n",
    "# The degree of the features can be modified in the parameters\n",
    "X_train2 = poly.fit_transform(train_data.iloc[:,0:2]) # Here we use the 'poly' created above to add polynomial\n",
    "# features of degree 2 to the training set\n",
    "# It creates 4 new columns : \n",
    "# - one with 'ones' everywhere\n",
    "# - one with X1^2\n",
    "# - one with X2^2\n",
    "# - one with X1*X2\n"
   ]
  },
  {
   "cell_type": "markdown",
   "id": "f7cadbe4",
   "metadata": {},
   "source": [
    "Question : Check the dimensions of the new training set created above"
   ]
  },
  {
   "cell_type": "code",
   "execution_count": null,
   "id": "b40366ec",
   "metadata": {},
   "outputs": [],
   "source": []
  },
  {
   "cell_type": "markdown",
   "id": "c6c3127c",
   "metadata": {},
   "source": [
    "Now we can fit a new logistic regression model using the new training set:"
   ]
  },
  {
   "cell_type": "code",
   "execution_count": null,
   "id": "9f684d3d",
   "metadata": {},
   "outputs": [],
   "source": [
    "lr_model2 = LogisticRegression().fit(X_train2, train_data.Y)"
   ]
  },
  {
   "cell_type": "markdown",
   "id": "cec7d964",
   "metadata": {},
   "source": [
    "Question : Compute the prediction accuracy of this new model on the training set. Is it better than the first model ? "
   ]
  },
  {
   "cell_type": "code",
   "execution_count": null,
   "id": "31c31deb",
   "metadata": {},
   "outputs": [],
   "source": []
  },
  {
   "cell_type": "markdown",
   "id": "322f15f7",
   "metadata": {},
   "source": [
    "Exercise : Look at the decision boundary of this new model, using the 'draw_boundary' function. You will need to set the 'deg' parameter to 2"
   ]
  },
  {
   "cell_type": "code",
   "execution_count": null,
   "id": "d6dcfe09",
   "metadata": {},
   "outputs": [],
   "source": []
  },
  {
   "cell_type": "markdown",
   "id": "8a9a4da5",
   "metadata": {},
   "source": [
    "Exercise : Compute the prediction accuracy of this new model on the validation data\n",
    "\n",
    "*Hint : You will first need to create a 'new' validation dataset by adding the same polynomial features to the original validation set*"
   ]
  },
  {
   "cell_type": "code",
   "execution_count": null,
   "id": "631d62cf",
   "metadata": {},
   "outputs": [],
   "source": []
  },
  {
   "cell_type": "markdown",
   "id": "bf124a93",
   "metadata": {},
   "source": [
    "Exercise : Try now to add higher degree polynomial features to the dataset, and apply the procedure explained during the CM to select the most adapted model. Estimate its generalization error"
   ]
  },
  {
   "cell_type": "code",
   "execution_count": null,
   "id": "5f4393ae",
   "metadata": {},
   "outputs": [],
   "source": []
  },
  {
   "cell_type": "markdown",
   "id": "820a795c",
   "metadata": {},
   "source": [
    "#  Exercice 2 : Multi-class classification"
   ]
  },
  {
   "cell_type": "markdown",
   "id": "b5f0e152",
   "metadata": {},
   "source": [
    "In this exercice, we will see how to apply logistic regression for multi-class classification (when the number of possible values for the target is more than 2)"
   ]
  },
  {
   "cell_type": "code",
   "execution_count": null,
   "id": "ad544a65",
   "metadata": {},
   "outputs": [],
   "source": [
    "# Load the data. \n",
    "segment = pd.read_csv(\"segment.csv\", sep = ',')\n",
    "segment"
   ]
  },
  {
   "cell_type": "markdown",
   "id": "015b076e",
   "metadata": {},
   "source": [
    "Questions : \n",
    "1. How many features are there in this dataset ? \n",
    "2. How many examples ? \n",
    "3. What is the distribution of the target values ? \n",
    "\n",
    "*Hint: You can find some informations about this dataset on the file segment.dat*"
   ]
  },
  {
   "cell_type": "code",
   "execution_count": null,
   "id": "3da5ce84",
   "metadata": {},
   "outputs": [],
   "source": []
  },
  {
   "cell_type": "code",
   "execution_count": null,
   "id": "d7b7e9cf",
   "metadata": {},
   "outputs": [],
   "source": [
    "# It is adviced to \"standardize\" the features before applying a logistic regression model. Santardize means\n",
    "# transforming each feature so that the mean of each feature is 0 and the standard deviation 1.\n",
    "# This can be done by the following commands\n",
    "X_segment = segment.iloc[:,0:19] # X_segment contains the features\n",
    "y_segment = segment.y # y_segment contains the class\n",
    "scaler = preprocessing.StandardScaler().fit(X_segment) # Standard Scaler is the command to standardize\n",
    "X_segment = scaler.transform(X_segment)\n",
    "X_segment = pd.DataFrame(X_segment)\n",
    "# Now the features are standardized inside the table X_segment\n",
    "data_segment = X_segment\n",
    "data_segment['y'] = y_segment\n",
    "# data_segment contains the features (standardized) and the class (column 'y')"
   ]
  },
  {
   "cell_type": "markdown",
   "id": "81502aaa",
   "metadata": {},
   "source": [
    "Exercise: Check (for 1 feature of your choice) whether its mean is 0 (you can use np.mean)"
   ]
  },
  {
   "cell_type": "code",
   "execution_count": null,
   "id": "2604e15a",
   "metadata": {},
   "outputs": [],
   "source": []
  },
  {
   "cell_type": "markdown",
   "id": "f21b367b",
   "metadata": {},
   "source": [
    "Exercise : Split the dataset into a train, a validation, and a test set"
   ]
  },
  {
   "cell_type": "code",
   "execution_count": null,
   "id": "a46fd7cf",
   "metadata": {},
   "outputs": [],
   "source": []
  },
  {
   "cell_type": "markdown",
   "id": "5cd09671",
   "metadata": {},
   "source": [
    "We will now fit a logistic regression model to the traning set. It is like in exercice 1, but we now need to specify that the problem is multi-class. For that, you need to use multi-class = 'multinomial' inside the call to LogisticRegression:"
   ]
  },
  {
   "cell_type": "code",
   "execution_count": null,
   "id": "ada1baba",
   "metadata": {},
   "outputs": [],
   "source": [
    "mc_model = LogisticRegression(multi_class='multinomial').fit(train_data.iloc[:,0:19], train_data.y)"
   ]
  },
  {
   "cell_type": "markdown",
   "id": "d41a4626",
   "metadata": {},
   "source": [
    "You should have a warning that says 'TOTAL NO. of ITERATIONS REACHED LIMIT'\n",
    "It means that the parameters should not have been learned well beacuse the algorithm has reached the maximum number of iterations without converging. It is possible to increase the maximum number of iterations:"
   ]
  },
  {
   "cell_type": "code",
   "execution_count": null,
   "id": "2fe1c43b",
   "metadata": {},
   "outputs": [],
   "source": [
    "mc_model = LogisticRegression(multi_class='multinomial', max_iter=1000).fit(train_data.iloc[:,0:19], train_data.y)\n",
    "# Now it should converge"
   ]
  },
  {
   "cell_type": "markdown",
   "id": "f9609152",
   "metadata": {},
   "source": [
    "Question : How many parameters should have this model ?"
   ]
  },
  {
   "cell_type": "code",
   "execution_count": null,
   "id": "0a948450",
   "metadata": {},
   "outputs": [],
   "source": []
  },
  {
   "cell_type": "markdown",
   "id": "b4245776",
   "metadata": {},
   "source": [
    "Exercise : Check the number of parameters by looking at their values (same commands as exercice 1)"
   ]
  },
  {
   "cell_type": "code",
   "execution_count": null,
   "id": "bf3d265a",
   "metadata": {},
   "outputs": [],
   "source": []
  },
  {
   "cell_type": "markdown",
   "id": "8b66c758",
   "metadata": {},
   "source": [
    "Questions : \n",
    "\n",
    "1. How many outputs should have this model ? Check the output values of the model for the first example of the training set using the function predict_proba (as in exercice 1). \n",
    "\n",
    "2. What should be the decision of the model here ? Check it with the 'predict' function"
   ]
  },
  {
   "cell_type": "code",
   "execution_count": null,
   "id": "1c9d35dc",
   "metadata": {},
   "outputs": [],
   "source": []
  },
  {
   "cell_type": "markdown",
   "id": "52b35fed",
   "metadata": {},
   "source": [
    "Questions : What is the prediction accuracy of this model on the train set ? and on the validation set ?"
   ]
  },
  {
   "cell_type": "code",
   "execution_count": null,
   "id": "8b4eae56",
   "metadata": {},
   "outputs": [],
   "source": []
  },
  {
   "cell_type": "markdown",
   "id": "543365a2",
   "metadata": {},
   "source": [
    "Exercise : Using the same procedure as in Exercice 1, try different polynomial features and select the best one. \n",
    "Then, estimate the generalization error of logistic regression on this dataset\n",
    "Don't go over degree 5, otherwise it might be quite long to learn the model (a lot of features)"
   ]
  },
  {
   "cell_type": "code",
   "execution_count": null,
   "id": "4a00215b",
   "metadata": {},
   "outputs": [],
   "source": []
  }
 ],
 "metadata": {
  "kernelspec": {
   "display_name": "organized-UI1b6WnF",
   "language": "python",
   "name": "python3"
  },
  "language_info": {
   "codemirror_mode": {
    "name": "ipython",
    "version": 3
   },
   "file_extension": ".py",
   "mimetype": "text/x-python",
   "name": "python",
   "nbconvert_exporter": "python",
   "pygments_lexer": "ipython3",
   "version": "3.12.4"
  }
 },
 "nbformat": 4,
 "nbformat_minor": 5
}
