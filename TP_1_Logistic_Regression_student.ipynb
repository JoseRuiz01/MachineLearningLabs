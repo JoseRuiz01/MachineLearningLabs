{
 "cells": [
  {
   "cell_type": "code",
   "execution_count": 25,
   "id": "8795994e",
   "metadata": {},
   "outputs": [],
   "source": [
    "import numpy as np\n",
    "import pandas as pd\n",
    "import matplotlib.pyplot as plt\n",
    "import matplotlib\n",
    "from sklearn.model_selection import train_test_split\n",
    "import math\n",
    "import random\n",
    "from random import uniform\n",
    "from sklearn import preprocessing\n",
    "from sklearn.preprocessing import PolynomialFeatures\n",
    "from sklearn.linear_model import LogisticRegression"
   ]
  },
  {
   "cell_type": "markdown",
   "id": "55187218",
   "metadata": {},
   "source": [
    "# Exercise 1 : Binary classification using logistic regression"
   ]
  },
  {
   "cell_type": "markdown",
   "id": "6ca65af7",
   "metadata": {},
   "source": [
    "## Load data and inspection of the data"
   ]
  },
  {
   "cell_type": "code",
   "execution_count": 26,
   "id": "0399919a",
   "metadata": {},
   "outputs": [],
   "source": [
    "# We will load the data that is in the file 'donnees_exo1.txt'\n",
    "data = pd.read_csv('donnees_exo1.txt', sep = ' ')"
   ]
  },
  {
   "cell_type": "code",
   "execution_count": 27,
   "id": "5787f152",
   "metadata": {},
   "outputs": [
    {
     "data": {
      "text/html": [
       "<div>\n",
       "<style scoped>\n",
       "    .dataframe tbody tr th:only-of-type {\n",
       "        vertical-align: middle;\n",
       "    }\n",
       "\n",
       "    .dataframe tbody tr th {\n",
       "        vertical-align: top;\n",
       "    }\n",
       "\n",
       "    .dataframe thead th {\n",
       "        text-align: right;\n",
       "    }\n",
       "</style>\n",
       "<table border=\"1\" class=\"dataframe\">\n",
       "  <thead>\n",
       "    <tr style=\"text-align: right;\">\n",
       "      <th></th>\n",
       "      <th>X1</th>\n",
       "      <th>X2</th>\n",
       "      <th>Y</th>\n",
       "    </tr>\n",
       "  </thead>\n",
       "  <tbody>\n",
       "    <tr>\n",
       "      <th>0</th>\n",
       "      <td>-0.697580</td>\n",
       "      <td>0.684940</td>\n",
       "      <td>0</td>\n",
       "    </tr>\n",
       "    <tr>\n",
       "      <th>1</th>\n",
       "      <td>-0.478690</td>\n",
       "      <td>0.633770</td>\n",
       "      <td>1</td>\n",
       "    </tr>\n",
       "    <tr>\n",
       "      <th>2</th>\n",
       "      <td>0.057028</td>\n",
       "      <td>0.918860</td>\n",
       "      <td>0</td>\n",
       "    </tr>\n",
       "    <tr>\n",
       "      <th>3</th>\n",
       "      <td>-0.593890</td>\n",
       "      <td>0.494880</td>\n",
       "      <td>0</td>\n",
       "    </tr>\n",
       "    <tr>\n",
       "      <th>4</th>\n",
       "      <td>0.229840</td>\n",
       "      <td>-0.411550</td>\n",
       "      <td>1</td>\n",
       "    </tr>\n",
       "    <tr>\n",
       "      <th>...</th>\n",
       "      <td>...</td>\n",
       "      <td>...</td>\n",
       "      <td>...</td>\n",
       "    </tr>\n",
       "    <tr>\n",
       "      <th>113</th>\n",
       "      <td>0.460250</td>\n",
       "      <td>0.012427</td>\n",
       "      <td>1</td>\n",
       "    </tr>\n",
       "    <tr>\n",
       "      <th>114</th>\n",
       "      <td>-0.046659</td>\n",
       "      <td>0.816520</td>\n",
       "      <td>1</td>\n",
       "    </tr>\n",
       "    <tr>\n",
       "      <th>115</th>\n",
       "      <td>0.322000</td>\n",
       "      <td>0.692250</td>\n",
       "      <td>1</td>\n",
       "    </tr>\n",
       "    <tr>\n",
       "      <th>116</th>\n",
       "      <td>-0.524770</td>\n",
       "      <td>0.209800</td>\n",
       "      <td>1</td>\n",
       "    </tr>\n",
       "    <tr>\n",
       "      <th>117</th>\n",
       "      <td>-0.599650</td>\n",
       "      <td>-0.418860</td>\n",
       "      <td>0</td>\n",
       "    </tr>\n",
       "  </tbody>\n",
       "</table>\n",
       "<p>118 rows × 3 columns</p>\n",
       "</div>"
      ],
      "text/plain": [
       "           X1        X2  Y\n",
       "0   -0.697580  0.684940  0\n",
       "1   -0.478690  0.633770  1\n",
       "2    0.057028  0.918860  0\n",
       "3   -0.593890  0.494880  0\n",
       "4    0.229840 -0.411550  1\n",
       "..        ...       ... ..\n",
       "113  0.460250  0.012427  1\n",
       "114 -0.046659  0.816520  1\n",
       "115  0.322000  0.692250  1\n",
       "116 -0.524770  0.209800  1\n",
       "117 -0.599650 -0.418860  0\n",
       "\n",
       "[118 rows x 3 columns]"
      ]
     },
     "execution_count": 27,
     "metadata": {},
     "output_type": "execute_result"
    }
   ],
   "source": [
    "data"
   ]
  },
  {
   "cell_type": "markdown",
   "id": "c3eb1067",
   "metadata": {},
   "source": [
    "Questions : \n",
    "1. How many examples are available in this dataset ? \n",
    "2. How many features ? \n",
    "3. What is the distribution of the target variable ?\n",
    "\n",
    "*Hint : value_counts can help for the last question*"
   ]
  },
  {
   "cell_type": "markdown",
   "id": "194b6cfe",
   "metadata": {},
   "source": [
    "1. How many examples are available in this dataset ? "
   ]
  },
  {
   "cell_type": "code",
   "execution_count": 28,
   "id": "86940e7b",
   "metadata": {},
   "outputs": [
    {
     "name": "stdout",
     "output_type": "stream",
     "text": [
      "Number of examples in the dataset: 118\n"
     ]
    }
   ],
   "source": [
    "print(\"Number of examples in the dataset:\", data.shape[0])"
   ]
  },
  {
   "cell_type": "markdown",
   "id": "615e3459",
   "metadata": {},
   "source": [
    "2. How many features ? "
   ]
  },
  {
   "cell_type": "code",
   "execution_count": 29,
   "id": "cf14399e",
   "metadata": {},
   "outputs": [
    {
     "name": "stdout",
     "output_type": "stream",
     "text": [
      "Number of feartures in the dataset: 2\n"
     ]
    }
   ],
   "source": [
    "print(\"Number of feartures in the dataset:\", data.shape[1] - 1)  # Subtracting 1 for the label column"
   ]
  },
  {
   "cell_type": "markdown",
   "id": "6541c159",
   "metadata": {},
   "source": [
    "3. What is the distribution of the target variable ?"
   ]
  },
  {
   "cell_type": "code",
   "execution_count": 30,
   "id": "7dbdc84f",
   "metadata": {},
   "outputs": [
    {
     "name": "stdout",
     "output_type": "stream",
     "text": [
      "Y\n",
      "0    60\n",
      "1    58\n",
      "Name: count, dtype: int64\n"
     ]
    }
   ],
   "source": [
    "# To get the distribution of the target variable in your dataset, \n",
    "# use the value_counts() function on the target column. \n",
    "# For example, if your target column is named Y:\n",
    "\n",
    "print(data['Y'].value_counts()) # how many times each class appears"
   ]
  },
  {
   "cell_type": "markdown",
   "id": "137723d9",
   "metadata": {},
   "source": [
    "Exercise: Plot on the same graph this dataset with different colors depending on the class value.\n",
    "\n",
    "X1 should be on the x-axis, X2 on the y-axis and the points colored depending on the class value (0 or 1)\n",
    "\n",
    "*Hints:* \n",
    "- *You can use scatter function for the plot*\n",
    "- *There are different possibilities for the colors: you can create two sets (one with class 0 and one with class 1) or use colorMaps (look at the documentation)* "
   ]
  },
  {
   "cell_type": "code",
   "execution_count": 31,
   "id": "60bb4638",
   "metadata": {},
   "outputs": [
    {
     "data": {
      "image/png": "[encoded data removed]",
      "text/plain": [
       "<Figure size 800x600 with 1 Axes>"
      ]
     },
     "metadata": {},
     "output_type": "display_data"
    }
   ],
   "source": [
    "# Plot X1 vs X2, colored by class (Y)\n",
    "plt.figure(figsize=(8,6))\n",
    "# Rendering each point in the plot with a different color\n",
    "for label, color in zip([0, 1], ['blue', 'red']):\n",
    "    subset = data[data['Y'] == label]\n",
    "    plt.scatter(subset['X1'], subset['X2'], c=color, label=f'Class {label}', alpha=0.7)\n",
    "# Labeling the axes and adding a legend\n",
    "plt.xlabel('X1')\n",
    "plt.ylabel('X2')\n",
    "plt.legend()\n",
    "plt.title('Dataset colored by class')\n",
    "plt.show()"
   ]
  },
  {
   "cell_type": "markdown",
   "id": "25f891d9",
   "metadata": {},
   "source": [
    "## Train / Validation / Test split"
   ]
  },
  {
   "cell_type": "markdown",
   "id": "c7f6ac82",
   "metadata": {},
   "source": [
    "Exercise : Split the dataset into 3 sets : train (70%), validation (15%) and test (15%).\n",
    "\n",
    "*Hint : you can use the 'train_test_split' function that splits a set in 2 sets with a proportion that you can give as parameter. To split into 3 sets, you'll need to use it twice (be careful about the proportions)*"
   ]
  },
  {
   "cell_type": "code",
   "execution_count": 32,
   "id": "cae4814b",
   "metadata": {},
   "outputs": [
    {
     "name": "stdout",
     "output_type": "stream",
     "text": [
      "Total dataset size: 118\n",
      "Train size: 82\n",
      "Validation size: 18\n",
      "Test size: 18\n"
     ]
    }
   ],
   "source": [
    "# First split: train (70%) and temp (30%) \"temporary set for validation and test\"\n",
    "train_data, temp_data = train_test_split(data, test_size=0.3, random_state=42, stratify=data['Y'])\n",
    "\n",
    "# Second split: validation (15%) and test (15%) from temp (which is 30% of the data)\n",
    "val_data, test_data = train_test_split(temp_data, test_size=0.5, random_state=42, stratify=temp_data['Y'])\n",
    "\n",
    "# Check the sizes\n",
    "print(\"Total dataset size:\", len(data))\n",
    "print(\"Train size:\", len(train_data))\n",
    "print(\"Validation size:\", len(val_data))\n",
    "print(\"Test size:\", len(test_data))"
   ]
  },
  {
   "cell_type": "markdown",
   "id": "6b6770b5",
   "metadata": {},
   "source": [
    "Exercise : Plot on the same graph the train and validation data with different colors for the class values and different markers between train and validation set."
   ]
  },
  {
   "cell_type": "code",
   "execution_count": 33,
   "id": "ad79fad5",
   "metadata": {},
   "outputs": [
    {
     "data": {
      "image/png": "[encoded data removed]",
      "text/plain": [
       "<Figure size 800x600 with 1 Axes>"
      ]
     },
     "metadata": {},
     "output_type": "display_data"
    }
   ],
   "source": [
    "plt.figure(figsize=(8,6))\n",
    "markers = {'train': 'x', 'val': 'o'}\n",
    "colors = {0: 'blue', 1: 'red'}\n",
    "\n",
    "# Plot train data\n",
    "for label in [0, 1]:\n",
    "    subset = train_data[train_data['Y'] == label]\n",
    "    plt.scatter(subset['X1'], subset['X2'], c=colors[label], marker=markers['train'], label=f'Train Class {label}', alpha=0.7)\n",
    "\n",
    "# Plot validation data\n",
    "for label in [0, 1]:\n",
    "    subset = val_data[val_data['Y'] == label]\n",
    "    plt.scatter(subset['X1'], subset['X2'], c=colors[label], marker=markers['val'], label=f'Val Class {label}', alpha=0.7, edgecolor='k')\n",
    "\n",
    "# Labeling the axes and adding a legend\n",
    "plt.xlabel('X1')\n",
    "plt.ylabel('X2')\n",
    "plt.legend()\n",
    "plt.title('Dataset colored by class')\n",
    "plt.show()\n"
   ]
  },
  {
   "cell_type": "markdown",
   "id": "48671a39",
   "metadata": {},
   "source": [
    "## Fitting a logistic regression model"
   ]
  },
  {
   "cell_type": "markdown",
   "id": "1a735a63",
   "metadata": {},
   "source": [
    "We will now fit a logistic regression model to the training set.\n",
    "For this, we can use the command on the next cell:"
   ]
  },
  {
   "cell_type": "code",
   "execution_count": 34,
   "id": "0624fccf",
   "metadata": {},
   "outputs": [],
   "source": [
    "lr_model = LogisticRegression().fit(train_data.iloc[:,0:2], train_data.Y)\n",
    "# Parameters can be added to the 'LogisticRegression' call (we will see this later when we'll need)\n",
    "# 2 parameters are given to the 'fit' function : \n",
    "#  - a dataset containing the features of the examples (here X1 and X2, the 2 first columns of the training set)\n",
    "#  - a vector containing the labels (Y) of the examples (in the same order), 0 or 1 here"
   ]
  },
  {
   "cell_type": "markdown",
   "id": "f615f7fe",
   "metadata": {},
   "source": [
    "Question : How many parameters should have this model ?"
   ]
  },
  {
   "cell_type": "markdown",
   "id": "475918e5",
   "metadata": {},
   "source": [
    "For a binary logistic regression model with two features (X1, X2):\n",
    "\n",
    "Each feature has one parameter (weight).\n",
    "There is one intercept (bias term).\n",
    "So, the total number of parameters is:\n",
    "\n",
    "2 (features) + 1 (intercept) = 3 parameters"
   ]
  },
  {
   "cell_type": "markdown",
   "id": "08130179",
   "metadata": {},
   "source": [
    "The constant of the model (theta_0 in the slides) can be obtained by the command:"
   ]
  },
  {
   "cell_type": "code",
   "execution_count": 35,
   "id": "e09e2d21",
   "metadata": {},
   "outputs": [
    {
     "data": {
      "text/plain": [
       "array([-0.04103162])"
      ]
     },
     "execution_count": 35,
     "metadata": {},
     "output_type": "execute_result"
    }
   ],
   "source": [
    "lr_model.intercept_"
   ]
  },
  {
   "cell_type": "markdown",
   "id": "5f1d4d33",
   "metadata": {},
   "source": [
    "The parameters associated to each feature can be obtained by the command:"
   ]
  },
  {
   "cell_type": "code",
   "execution_count": 36,
   "id": "e4fa50dc",
   "metadata": {},
   "outputs": [
    {
     "data": {
      "text/plain": [
       "array([[-0.47013621,  0.319003  ]])"
      ]
     },
     "execution_count": 36,
     "metadata": {},
     "output_type": "execute_result"
    }
   ],
   "source": [
    "lr_model.coef_"
   ]
  },
  {
   "cell_type": "markdown",
   "id": "f559fe00",
   "metadata": {},
   "source": [
    "Using the values of the features for the first example of the training set (row 0) and the values of the parameters of the model above, calculate the output that the model should give (using the equation of the logistic regression model).\n",
    "\n",
    "*Hint : exponential can be obtained with math.exp()*"
   ]
  },
  {
   "cell_type": "code",
   "execution_count": 49,
   "id": "8e8050a5",
   "metadata": {},
   "outputs": [],
   "source": [
    "# Get the feature values for the first example (row 0)\n",
    "x1 = train_data.iloc[0, 0]\n",
    "x2 = train_data.iloc[0, 1]\n",
    "\n",
    "# Get the values of the model parameters\n",
    "intercept = lr_model.intercept_[0]\n",
    "w1 = lr_model.coef_[0, 0]\n",
    "w2 = lr_model.coef_[0, 1]\n",
    "\n",
    "# The equation of the logistic regression model for two features (X1, X2) is the linear combination:\n",
    "z = intercept + w1 * x1 + w2 * x2\n",
    "\n",
    "# Sigmoid function to get the probability (probability = 1 / (1 + exp(-z))\n",
    "p = 1 / (1 + math.exp(-z))"
   ]
  },
  {
   "cell_type": "markdown",
   "id": "6bcec6c7",
   "metadata": {},
   "source": [
    "What shoud be the decision made by this model for this example ?"
   ]
  },
  {
   "cell_type": "code",
   "execution_count": 52,
   "id": "71f2631c",
   "metadata": {},
   "outputs": [
    {
     "name": "stdout",
     "output_type": "stream",
     "text": [
      "The model predicts a probability of 0.5697 for the first training example to belong to class 1.\n",
      "The model predict a probability of 0.4303 for the first training example to belong to class 0.\n",
      "\n",
      "The model predicts that the first training example belongs to class 1.\n"
     ]
    }
   ],
   "source": [
    "print (f\"The model predicts a probability of {p:.4f} for the first training example to belong to class 1.\")\n",
    "print (f\"The model predict a probability of {1-p:.4f} for the first training example to belong to class 0.\\n\")\n",
    "\n",
    "if(p >= 0.5):\n",
    "    print(\"The model predicts that the first training example belongs to class 1.\")\n",
    "else:\n",
    "    print(\"The model predicts that the first training example belongs to class 0.\")"
   ]
  },
  {
   "cell_type": "markdown",
   "id": "627e63ef",
   "metadata": {},
   "source": [
    "It is possible to obtain automatically this value by the command:"
   ]
  },
  {
   "cell_type": "code",
   "execution_count": 37,
   "id": "cd6a1551",
   "metadata": {},
   "outputs": [
    {
     "data": {
      "text/plain": [
       "array([[0.43027788, 0.56972212]])"
      ]
     },
     "execution_count": 37,
     "metadata": {},
     "output_type": "execute_result"
    }
   ],
   "source": [
    "lr_model.predict_proba(train_data.iloc[0:1,0:2])\n",
    "# actually this command gives you the two probabilities : P(Y = 0 | X1, X2) and P(Y = 1 | X1, X2)\n",
    "# You should obtain the same probability than the one calculated above"
   ]
  },
  {
   "cell_type": "code",
   "execution_count": 38,
   "id": "839a0565",
   "metadata": {},
   "outputs": [
    {
     "data": {
      "text/plain": [
       "array([1])"
      ]
     },
     "execution_count": 38,
     "metadata": {},
     "output_type": "execute_result"
    }
   ],
   "source": [
    "# The final decision of the model can be obtained by the command:\n",
    "lr_model.predict(train_data.iloc[0:1,0:2])"
   ]
  },
  {
   "cell_type": "markdown",
   "id": "7578e27d",
   "metadata": {},
   "source": [
    "Question : Does this model make a good decision for this example ?"
   ]
  },
  {
   "cell_type": "code",
   "execution_count": null,
   "id": "a4272b63",
   "metadata": {},
   "outputs": [
    {
     "name": "stdout",
     "output_type": "stream",
     "text": [
      "Predicted class: 1\n",
      "True class: 0.0\n",
      "The model's prediction is correct.\n"
     ]
    }
   ],
   "source": [
    "# To compare the model's predicted class for the first training example with its true label:\n",
    "predicted = lr_model.predict(train_data.iloc[0:1,0:2])[0]\n",
    "true = train_data.iloc[0]['Y']\n",
    "\n",
    "print(f\"Predicted class: {predicted}\") \n",
    "print(f\"True class: {true}\")\n",
    "\n",
    "if predicted == true:\n",
    "    print(\"The model's prediction is correct.\")\n",
    "else:\n",
    "    print(\"The model's prediction is incorrect.\")\n"
   ]
  },
  {
   "cell_type": "markdown",
   "id": "491f045f",
   "metadata": {},
   "source": [
    "The accuracy of a classifier on a dataset (percentage of good prediction made for all the examples of the dataset) can be obtained automatically by the function 'score' applied to a classifier.\n",
    "It needs two 2 parameters : \n",
    " - a dataset containing the examples that we want to predict (their features)\n",
    " - the real class of these examples.\n",
    " Below, you will see how to compute the accuracy of the model 'lr_model' on the training set"
   ]
  },
  {
   "cell_type": "code",
   "execution_count": 39,
   "id": "9089c8c9",
   "metadata": {},
   "outputs": [
    {
     "data": {
      "text/plain": [
       "0.5609756097560976"
      ]
     },
     "execution_count": 39,
     "metadata": {},
     "output_type": "execute_result"
    }
   ],
   "source": [
    "lr_model.score(train_data.iloc[:,0:2], train_data.Y)"
   ]
  },
  {
   "cell_type": "markdown",
   "id": "4a8d9c50",
   "metadata": {},
   "source": [
    "Exercise : Compute the accuracy of this model on the validation set "
   ]
  },
  {
   "cell_type": "code",
   "execution_count": 58,
   "id": "48010581",
   "metadata": {},
   "outputs": [
    {
     "name": "stdout",
     "output_type": "stream",
     "text": [
      "Validation accuracy: 0.5000\n"
     ]
    }
   ],
   "source": [
    "accuracy_val = lr_model.score(val_data.iloc[:,0:2], val_data.Y)\n",
    "print(f\"Validation accuracy: {accuracy_val:.4f}\")"
   ]
  },
  {
   "cell_type": "markdown",
   "id": "1b6517af",
   "metadata": {},
   "source": [
    "## Visualization of the decision boundary"
   ]
  },
  {
   "cell_type": "markdown",
   "id": "233a2559",
   "metadata": {},
   "source": [
    "The function below allows you to see the decision boundary of a logisic regression model.\n",
    "There are 7 parameters : \n",
    " - model : a logistic regression model already fitted\n",
    " - data : the data points that you want to draw together with the boundary (training set for instance)\n",
    " - deg : the degree of the polynomial features used in the model (1 if it is a classical model). These polynomial features will be discussed later\n",
    " - xmin, xmax, ymin, ymax : the min and max coordinates that you want to be displayed (depends on the data)\n",
    "\n",
    "An example of the use of this function is given after. "
   ]
  },
  {
   "cell_type": "code",
   "execution_count": 40,
   "id": "201ea930",
   "metadata": {},
   "outputs": [],
   "source": [
    "def draw_boundary(model, data, deg, xmin, xmax, ymin, ymax):\n",
    "    h = 0.05\n",
    "\n",
    "    # create a grid of points from xmin to xmax and from ymin to ymax with a step h\n",
    "    xx, yy = np.meshgrid(np.arange(xmin, xmax, h), np.arange(ymin, ymax, h))\n",
    "\n",
    "    zz = np.c_[xx.ravel(), yy.ravel()] # create a matrix containing the grid points\n",
    "    zz = pd.DataFrame(zz) # convert it to a dataframe to be able to use it with the model\n",
    "    \n",
    "    # adjust the points to the desired degree\n",
    "    if(deg>1):\n",
    "        poly = PolynomialFeatures(degree = deg)\n",
    "        zz2 = poly.fit_transform(zz)\n",
    "        zz2 = pd.DataFrame(zz2)\n",
    "    else:\n",
    "        zz2 = zz\n",
    "\n",
    "    # predict the class of each point of the grid\n",
    "    pred_zz= pd.Series(model.predict(zz2))\n",
    "\n",
    "    color_map = matplotlib.colors.ListedColormap(pd.Series(['blue', 'red']))\n",
    "    fig = plt.figure(figsize=(8,8))\n",
    "\n",
    "    # plot a grid of points to show where the decision boundary is\n",
    "    fig = plt.scatter(zz.iloc[:,0], zz.iloc[:,1], c = pred_zz, cmap = color_map, marker='+')\n",
    "\n",
    "    # plot the dataset points\n",
    "    fig = plt.scatter(data.iloc[:,0], data.iloc[:,1], s = 50, c = data.iloc[:,2], cmap = color_map)\n",
    "\n",
    "    plt.xlabel('X1')\n",
    "    plt.ylabel('X2')\n",
    "    plt.title('Decision boundary of degree ' + str(deg))\n",
    "    plt.show()\n",
    "    "
   ]
  },
  {
   "cell_type": "code",
   "execution_count": 41,
   "id": "84191c4f",
   "metadata": {},
   "outputs": [
    {
     "name": "stderr",
     "output_type": "stream",
     "text": [
      "/Users/joseantonioruizheredia/Code/Python/MachineLearningLabs/.venv/lib/python3.13/site-packages/sklearn/utils/validation.py:2749: UserWarning: X does not have valid feature names, but LogisticRegression was fitted with feature names\n",
      "  warnings.warn(\n"
     ]
    },
    {
     "data": {
      "image/png": "[encoded data removed]",
      "text/plain": [
       "<Figure size 800x800 with 1 Axes>"
      ]
     },
     "metadata": {},
     "output_type": "display_data"
    }
   ],
   "source": [
    "draw_boundary(lr_model, train_data, 1, -1.2, 1.2, -1.2, 1.2)"
   ]
  },
  {
   "cell_type": "markdown",
   "id": "a36ef732",
   "metadata": {},
   "source": [
    "Questions : \n",
    "1. What is the type of this decision boundary ? \n",
    "2. Was it expected ? \n",
    "3. Does it seem adapted to this dataset ?"
   ]
  },
  {
   "cell_type": "markdown",
   "id": "12acf42c",
   "metadata": {},
   "source": [
    "1. What is the type of this decision boundary ? \n",
    "\n",
    "It is a Linear Decision Boundary because it is a straight line that demarcates one feature space class from another."
   ]
  },
  {
   "cell_type": "markdown",
   "id": "74a7fd56",
   "metadata": {},
   "source": [
    "2. Was it expected?\n",
    "\n",
    "Yes, this is expected because a standard logistic regression with two features produces a linear decision boundary."
   ]
  },
  {
   "cell_type": "markdown",
   "id": "e2b39a09",
   "metadata": {},
   "source": [
    "3. Does it seem adapted to this dataset?\n",
    "\n",
    "The data is not linearly separable, in other words the classes are mixed in a non-linear way, then a linear boundary may not be sufficient, and a more complex model (e.g., with polynomial features) would be better."
   ]
  },
  {
   "cell_type": "markdown",
   "id": "9de76327",
   "metadata": {},
   "source": [
    "We will now see how to add polynomial features to the dataset before fitting a linear regression model:"
   ]
  },
  {
   "cell_type": "code",
   "execution_count": null,
   "id": "3803c2b1",
   "metadata": {},
   "outputs": [],
   "source": [
    "poly = PolynomialFeatures(degree = 2) # Here we create an object that will be used to add polynomial features.\n",
    "# The degree of the features can be modified in the parameters\n",
    "X_train2 = poly.fit_transform(train_data.iloc[:,0:2]) # Here we use the 'poly' created above to add polynomial\n",
    "# features of degree 2 to the training set\n",
    "# It creates 4 new columns : \n",
    "# - one with 'ones' everywhere\n",
    "# - one with X1^2\n",
    "# - one with X2^2\n",
    "# - one with X1*X2\n"
   ]
  },
  {
   "cell_type": "markdown",
   "id": "f7cadbe4",
   "metadata": {},
   "source": [
    "Question : Check the dimensions of the new training set created above"
   ]
  },
  {
   "cell_type": "code",
   "execution_count": 60,
   "id": "b40366ec",
   "metadata": {},
   "outputs": [
    {
     "data": {
      "text/plain": [
       "(82, 6)"
      ]
     },
     "execution_count": 60,
     "metadata": {},
     "output_type": "execute_result"
    }
   ],
   "source": [
    "X_train2.shape"
   ]
  },
  {
   "cell_type": "markdown",
   "id": "c6c3127c",
   "metadata": {},
   "source": [
    "Now we can fit a new logistic regression model using the new training set:"
   ]
  },
  {
   "cell_type": "code",
   "execution_count": 43,
   "id": "9f684d3d",
   "metadata": {},
   "outputs": [],
   "source": [
    "lr_model2 = LogisticRegression().fit(X_train2, train_data.Y)"
   ]
  },
  {
   "cell_type": "markdown",
   "id": "cec7d964",
   "metadata": {},
   "source": [
    "Question : Compute the prediction accuracy of this new model on the training set. Is it better than the first model ? "
   ]
  },
  {
   "cell_type": "code",
   "execution_count": null,
   "id": "31c31deb",
   "metadata": {},
   "outputs": [
    {
     "name": "stdout",
     "output_type": "stream",
     "text": [
      "Accuracy of new model on train data: 0.7927\n"
     ]
    }
   ],
   "source": [
    "accuracy_new_model = lr_model2.score(X_train2, train_data.Y)\n",
    "\n",
    "print(f\"Accuracy of new model on train data: {accuracy_new_model:.4f}\")"
   ]
  },
  {
   "cell_type": "markdown",
   "id": "322f15f7",
   "metadata": {},
   "source": [
    "Exercise : Look at the decision boundary of this new model, using the 'draw_boundary' function. You will need to set the 'deg' parameter to 2"
   ]
  },
  {
   "cell_type": "code",
   "execution_count": 66,
   "id": "d6dcfe09",
   "metadata": {},
   "outputs": [
    {
     "data": {
      "image/png": "[encoded data removed]",
      "text/plain": [
       "<Figure size 800x800 with 1 Axes>"
      ]
     },
     "metadata": {},
     "output_type": "display_data"
    }
   ],
   "source": [
    "draw_boundary(lr_model2, train_data, 2, -1.2, 1.2, -1.2, 1.2)"
   ]
  },
  {
   "cell_type": "markdown",
   "id": "8a9a4da5",
   "metadata": {},
   "source": [
    "Exercise : Compute the prediction accuracy of this new model on the validation data\n",
    "\n",
    "*Hint : You will first need to create a 'new' validation dataset by adding the same polynomial features to the original validation set*"
   ]
  },
  {
   "cell_type": "code",
   "execution_count": null,
   "id": "631d62cf",
   "metadata": {},
   "outputs": [],
   "source": [
    "X_val2 = poly.fit_transform(val_data.iloc[:,0:2])\n",
    "accuracy_val_new_model = lr_model2.score(X_val2, val_data.Y)\n",
    "\n",
    "print(f\"Accuracy of new model on validation data: {accuracy_val_new_model:.4f}\")"
   ]
  },
  {
   "cell_type": "markdown",
   "id": "bf124a93",
   "metadata": {},
   "source": [
    "Exercise : Try now to add higher degree polynomial features to the dataset, and apply the procedure explained during the CM to select the most adapted model. Estimate its generalization error"
   ]
  },
  {
   "cell_type": "code",
   "execution_count": null,
   "id": "5f4393ae",
   "metadata": {},
   "outputs": [],
   "source": []
  },
  {
   "cell_type": "markdown",
   "id": "820a795c",
   "metadata": {},
   "source": [
    "#  Exercice 2 : Multi-class classification"
   ]
  },
  {
   "cell_type": "markdown",
   "id": "b5f0e152",
   "metadata": {},
   "source": [
    "In this exercice, we will see how to apply logistic regression for multi-class classification (when the number of possible values for the target is more than 2)"
   ]
  },
  {
   "cell_type": "code",
   "execution_count": 44,
   "id": "ad544a65",
   "metadata": {},
   "outputs": [
    {
     "data": {
      "text/html": [
       "<div>\n",
       "<style scoped>\n",
       "    .dataframe tbody tr th:only-of-type {\n",
       "        vertical-align: middle;\n",
       "    }\n",
       "\n",
       "    .dataframe tbody tr th {\n",
       "        vertical-align: top;\n",
       "    }\n",
       "\n",
       "    .dataframe thead th {\n",
       "        text-align: right;\n",
       "    }\n",
       "</style>\n",
       "<table border=\"1\" class=\"dataframe\">\n",
       "  <thead>\n",
       "    <tr style=\"text-align: right;\">\n",
       "      <th></th>\n",
       "      <th>X1</th>\n",
       "      <th>X2</th>\n",
       "      <th>X3</th>\n",
       "      <th>X4</th>\n",
       "      <th>X5</th>\n",
       "      <th>X6</th>\n",
       "      <th>X7</th>\n",
       "      <th>X8</th>\n",
       "      <th>X9</th>\n",
       "      <th>X10</th>\n",
       "      <th>X11</th>\n",
       "      <th>X12</th>\n",
       "      <th>X13</th>\n",
       "      <th>X14</th>\n",
       "      <th>X15</th>\n",
       "      <th>X16</th>\n",
       "      <th>X17</th>\n",
       "      <th>X18</th>\n",
       "      <th>X19</th>\n",
       "      <th>y</th>\n",
       "    </tr>\n",
       "  </thead>\n",
       "  <tbody>\n",
       "    <tr>\n",
       "      <th>0</th>\n",
       "      <td>218</td>\n",
       "      <td>178</td>\n",
       "      <td>9</td>\n",
       "      <td>0.111111</td>\n",
       "      <td>0.0</td>\n",
       "      <td>0.833333</td>\n",
       "      <td>0.547722</td>\n",
       "      <td>1.111109</td>\n",
       "      <td>0.544331</td>\n",
       "      <td>59.629630</td>\n",
       "      <td>52.444443</td>\n",
       "      <td>75.222220</td>\n",
       "      <td>51.222220</td>\n",
       "      <td>-21.555555</td>\n",
       "      <td>46.777780</td>\n",
       "      <td>-25.222221</td>\n",
       "      <td>75.222220</td>\n",
       "      <td>0.318996</td>\n",
       "      <td>-2.040554</td>\n",
       "      <td>6</td>\n",
       "    </tr>\n",
       "    <tr>\n",
       "      <th>1</th>\n",
       "      <td>113</td>\n",
       "      <td>130</td>\n",
       "      <td>9</td>\n",
       "      <td>0.000000</td>\n",
       "      <td>0.0</td>\n",
       "      <td>0.277778</td>\n",
       "      <td>0.250924</td>\n",
       "      <td>0.333333</td>\n",
       "      <td>0.365148</td>\n",
       "      <td>0.888889</td>\n",
       "      <td>0.000000</td>\n",
       "      <td>2.555556</td>\n",
       "      <td>0.111111</td>\n",
       "      <td>-2.666667</td>\n",
       "      <td>5.000000</td>\n",
       "      <td>-2.333333</td>\n",
       "      <td>2.555556</td>\n",
       "      <td>1.000000</td>\n",
       "      <td>-2.123254</td>\n",
       "      <td>3</td>\n",
       "    </tr>\n",
       "    <tr>\n",
       "      <th>2</th>\n",
       "      <td>202</td>\n",
       "      <td>41</td>\n",
       "      <td>9</td>\n",
       "      <td>0.000000</td>\n",
       "      <td>0.0</td>\n",
       "      <td>0.944448</td>\n",
       "      <td>0.772202</td>\n",
       "      <td>1.111112</td>\n",
       "      <td>1.025597</td>\n",
       "      <td>123.037040</td>\n",
       "      <td>111.888885</td>\n",
       "      <td>139.777790</td>\n",
       "      <td>117.444440</td>\n",
       "      <td>-33.444443</td>\n",
       "      <td>50.222220</td>\n",
       "      <td>-16.777779</td>\n",
       "      <td>139.777790</td>\n",
       "      <td>0.199347</td>\n",
       "      <td>-2.299918</td>\n",
       "      <td>2</td>\n",
       "    </tr>\n",
       "    <tr>\n",
       "      <th>3</th>\n",
       "      <td>32</td>\n",
       "      <td>173</td>\n",
       "      <td>9</td>\n",
       "      <td>0.000000</td>\n",
       "      <td>0.0</td>\n",
       "      <td>1.722222</td>\n",
       "      <td>1.781593</td>\n",
       "      <td>9.000000</td>\n",
       "      <td>6.749488</td>\n",
       "      <td>43.592594</td>\n",
       "      <td>39.555557</td>\n",
       "      <td>52.888890</td>\n",
       "      <td>38.333336</td>\n",
       "      <td>-12.111111</td>\n",
       "      <td>27.888890</td>\n",
       "      <td>-15.777778</td>\n",
       "      <td>52.888890</td>\n",
       "      <td>0.266914</td>\n",
       "      <td>-1.998857</td>\n",
       "      <td>6</td>\n",
       "    </tr>\n",
       "    <tr>\n",
       "      <th>4</th>\n",
       "      <td>61</td>\n",
       "      <td>197</td>\n",
       "      <td>9</td>\n",
       "      <td>0.000000</td>\n",
       "      <td>0.0</td>\n",
       "      <td>1.444444</td>\n",
       "      <td>1.515353</td>\n",
       "      <td>2.611111</td>\n",
       "      <td>1.925463</td>\n",
       "      <td>49.592594</td>\n",
       "      <td>44.222220</td>\n",
       "      <td>61.555557</td>\n",
       "      <td>43.000000</td>\n",
       "      <td>-16.111110</td>\n",
       "      <td>35.888890</td>\n",
       "      <td>-19.777779</td>\n",
       "      <td>61.555557</td>\n",
       "      <td>0.302925</td>\n",
       "      <td>-2.022274</td>\n",
       "      <td>6</td>\n",
       "    </tr>\n",
       "    <tr>\n",
       "      <th>...</th>\n",
       "      <td>...</td>\n",
       "      <td>...</td>\n",
       "      <td>...</td>\n",
       "      <td>...</td>\n",
       "      <td>...</td>\n",
       "      <td>...</td>\n",
       "      <td>...</td>\n",
       "      <td>...</td>\n",
       "      <td>...</td>\n",
       "      <td>...</td>\n",
       "      <td>...</td>\n",
       "      <td>...</td>\n",
       "      <td>...</td>\n",
       "      <td>...</td>\n",
       "      <td>...</td>\n",
       "      <td>...</td>\n",
       "      <td>...</td>\n",
       "      <td>...</td>\n",
       "      <td>...</td>\n",
       "      <td>...</td>\n",
       "    </tr>\n",
       "    <tr>\n",
       "      <th>2305</th>\n",
       "      <td>30</td>\n",
       "      <td>102</td>\n",
       "      <td>9</td>\n",
       "      <td>0.000000</td>\n",
       "      <td>0.0</td>\n",
       "      <td>1.222222</td>\n",
       "      <td>0.118518</td>\n",
       "      <td>1.333333</td>\n",
       "      <td>0.800000</td>\n",
       "      <td>20.259260</td>\n",
       "      <td>20.333334</td>\n",
       "      <td>25.000000</td>\n",
       "      <td>15.444445</td>\n",
       "      <td>0.222222</td>\n",
       "      <td>14.222222</td>\n",
       "      <td>-14.444445</td>\n",
       "      <td>25.000000</td>\n",
       "      <td>0.381059</td>\n",
       "      <td>-1.555097</td>\n",
       "      <td>1</td>\n",
       "    </tr>\n",
       "    <tr>\n",
       "      <th>2306</th>\n",
       "      <td>143</td>\n",
       "      <td>24</td>\n",
       "      <td>9</td>\n",
       "      <td>0.000000</td>\n",
       "      <td>0.0</td>\n",
       "      <td>1.277777</td>\n",
       "      <td>0.907406</td>\n",
       "      <td>0.888888</td>\n",
       "      <td>1.140749</td>\n",
       "      <td>127.629630</td>\n",
       "      <td>117.666664</td>\n",
       "      <td>141.666670</td>\n",
       "      <td>123.555560</td>\n",
       "      <td>-29.888890</td>\n",
       "      <td>42.111110</td>\n",
       "      <td>-12.222222</td>\n",
       "      <td>141.666670</td>\n",
       "      <td>0.169397</td>\n",
       "      <td>-2.349252</td>\n",
       "      <td>2</td>\n",
       "    </tr>\n",
       "    <tr>\n",
       "      <th>2307</th>\n",
       "      <td>80</td>\n",
       "      <td>72</td>\n",
       "      <td>9</td>\n",
       "      <td>0.000000</td>\n",
       "      <td>0.0</td>\n",
       "      <td>1.222223</td>\n",
       "      <td>1.003697</td>\n",
       "      <td>1.444444</td>\n",
       "      <td>1.167461</td>\n",
       "      <td>59.000000</td>\n",
       "      <td>51.333332</td>\n",
       "      <td>74.444440</td>\n",
       "      <td>51.222220</td>\n",
       "      <td>-23.000000</td>\n",
       "      <td>46.333332</td>\n",
       "      <td>-23.333334</td>\n",
       "      <td>74.444440</td>\n",
       "      <td>0.314606</td>\n",
       "      <td>-2.090221</td>\n",
       "      <td>4</td>\n",
       "    </tr>\n",
       "    <tr>\n",
       "      <th>2308</th>\n",
       "      <td>98</td>\n",
       "      <td>133</td>\n",
       "      <td>9</td>\n",
       "      <td>0.000000</td>\n",
       "      <td>0.0</td>\n",
       "      <td>0.555555</td>\n",
       "      <td>0.172133</td>\n",
       "      <td>0.388889</td>\n",
       "      <td>0.327731</td>\n",
       "      <td>0.962963</td>\n",
       "      <td>0.000000</td>\n",
       "      <td>2.777778</td>\n",
       "      <td>0.111111</td>\n",
       "      <td>-2.888889</td>\n",
       "      <td>5.444445</td>\n",
       "      <td>-2.555556</td>\n",
       "      <td>2.777778</td>\n",
       "      <td>1.000000</td>\n",
       "      <td>-2.123254</td>\n",
       "      <td>3</td>\n",
       "    </tr>\n",
       "    <tr>\n",
       "      <th>2309</th>\n",
       "      <td>19</td>\n",
       "      <td>147</td>\n",
       "      <td>9</td>\n",
       "      <td>0.000000</td>\n",
       "      <td>0.0</td>\n",
       "      <td>0.222222</td>\n",
       "      <td>0.074074</td>\n",
       "      <td>0.500000</td>\n",
       "      <td>0.077778</td>\n",
       "      <td>4.148148</td>\n",
       "      <td>3.888889</td>\n",
       "      <td>6.666666</td>\n",
       "      <td>1.888889</td>\n",
       "      <td>-0.777778</td>\n",
       "      <td>7.555555</td>\n",
       "      <td>-6.777778</td>\n",
       "      <td>7.000000</td>\n",
       "      <td>0.713228</td>\n",
       "      <td>-1.475643</td>\n",
       "      <td>1</td>\n",
       "    </tr>\n",
       "  </tbody>\n",
       "</table>\n",
       "<p>2310 rows × 20 columns</p>\n",
       "</div>"
      ],
      "text/plain": [
       "       X1   X2  X3        X4   X5        X6        X7        X8        X9  \\\n",
       "0     218  178   9  0.111111  0.0  0.833333  0.547722  1.111109  0.544331   \n",
       "1     113  130   9  0.000000  0.0  0.277778  0.250924  0.333333  0.365148   \n",
       "2     202   41   9  0.000000  0.0  0.944448  0.772202  1.111112  1.025597   \n",
       "3      32  173   9  0.000000  0.0  1.722222  1.781593  9.000000  6.749488   \n",
       "4      61  197   9  0.000000  0.0  1.444444  1.515353  2.611111  1.925463   \n",
       "...   ...  ...  ..       ...  ...       ...       ...       ...       ...   \n",
       "2305   30  102   9  0.000000  0.0  1.222222  0.118518  1.333333  0.800000   \n",
       "2306  143   24   9  0.000000  0.0  1.277777  0.907406  0.888888  1.140749   \n",
       "2307   80   72   9  0.000000  0.0  1.222223  1.003697  1.444444  1.167461   \n",
       "2308   98  133   9  0.000000  0.0  0.555555  0.172133  0.388889  0.327731   \n",
       "2309   19  147   9  0.000000  0.0  0.222222  0.074074  0.500000  0.077778   \n",
       "\n",
       "             X10         X11         X12         X13        X14        X15  \\\n",
       "0      59.629630   52.444443   75.222220   51.222220 -21.555555  46.777780   \n",
       "1       0.888889    0.000000    2.555556    0.111111  -2.666667   5.000000   \n",
       "2     123.037040  111.888885  139.777790  117.444440 -33.444443  50.222220   \n",
       "3      43.592594   39.555557   52.888890   38.333336 -12.111111  27.888890   \n",
       "4      49.592594   44.222220   61.555557   43.000000 -16.111110  35.888890   \n",
       "...          ...         ...         ...         ...        ...        ...   \n",
       "2305   20.259260   20.333334   25.000000   15.444445   0.222222  14.222222   \n",
       "2306  127.629630  117.666664  141.666670  123.555560 -29.888890  42.111110   \n",
       "2307   59.000000   51.333332   74.444440   51.222220 -23.000000  46.333332   \n",
       "2308    0.962963    0.000000    2.777778    0.111111  -2.888889   5.444445   \n",
       "2309    4.148148    3.888889    6.666666    1.888889  -0.777778   7.555555   \n",
       "\n",
       "            X16         X17       X18       X19  y  \n",
       "0    -25.222221   75.222220  0.318996 -2.040554  6  \n",
       "1     -2.333333    2.555556  1.000000 -2.123254  3  \n",
       "2    -16.777779  139.777790  0.199347 -2.299918  2  \n",
       "3    -15.777778   52.888890  0.266914 -1.998857  6  \n",
       "4    -19.777779   61.555557  0.302925 -2.022274  6  \n",
       "...         ...         ...       ...       ... ..  \n",
       "2305 -14.444445   25.000000  0.381059 -1.555097  1  \n",
       "2306 -12.222222  141.666670  0.169397 -2.349252  2  \n",
       "2307 -23.333334   74.444440  0.314606 -2.090221  4  \n",
       "2308  -2.555556    2.777778  1.000000 -2.123254  3  \n",
       "2309  -6.777778    7.000000  0.713228 -1.475643  1  \n",
       "\n",
       "[2310 rows x 20 columns]"
      ]
     },
     "execution_count": 44,
     "metadata": {},
     "output_type": "execute_result"
    }
   ],
   "source": [
    "# Load the data. \n",
    "segment = pd.read_csv(\"segment.csv\", sep = ',')\n",
    "segment"
   ]
  },
  {
   "cell_type": "markdown",
   "id": "015b076e",
   "metadata": {},
   "source": [
    "Questions : \n",
    "1. How many features are there in this dataset ? \n",
    "2. How many examples ? \n",
    "3. What is the distribution of the target values ? \n",
    "\n",
    "*Hint: You can find some informations about this dataset on the file segment.dat*"
   ]
  },
  {
   "cell_type": "code",
   "execution_count": null,
   "id": "3da5ce84",
   "metadata": {},
   "outputs": [],
   "source": []
  },
  {
   "cell_type": "code",
   "execution_count": 45,
   "id": "d7b7e9cf",
   "metadata": {},
   "outputs": [],
   "source": [
    "# It is adviced to \"standardize\" the features before applying a logistic regression model. Santardize means\n",
    "# transforming each feature so that the mean of each feature is 0 and the standard deviation 1.\n",
    "# This can be done by the following commands\n",
    "X_segment = segment.iloc[:,0:19] # X_segment contains the features\n",
    "y_segment = segment.y # y_segment contains the class\n",
    "scaler = preprocessing.StandardScaler().fit(X_segment) # Standard Scaler is the command to standardize\n",
    "X_segment = scaler.transform(X_segment)\n",
    "X_segment = pd.DataFrame(X_segment)\n",
    "# Now the features are standardized inside the table X_segment\n",
    "data_segment = X_segment\n",
    "data_segment['y'] = y_segment\n",
    "# data_segment contains the features (standardized) and the class (column 'y')"
   ]
  },
  {
   "cell_type": "markdown",
   "id": "81502aaa",
   "metadata": {},
   "source": [
    "Exercise: Check (for 1 feature of your choice) whether its mean is 0 (you can use np.mean)"
   ]
  },
  {
   "cell_type": "code",
   "execution_count": null,
   "id": "2604e15a",
   "metadata": {},
   "outputs": [],
   "source": []
  },
  {
   "cell_type": "markdown",
   "id": "f21b367b",
   "metadata": {},
   "source": [
    "Exercise : Split the dataset into a train, a validation, and a test set"
   ]
  },
  {
   "cell_type": "code",
   "execution_count": null,
   "id": "a46fd7cf",
   "metadata": {},
   "outputs": [],
   "source": []
  },
  {
   "cell_type": "markdown",
   "id": "5cd09671",
   "metadata": {},
   "source": [
    "We will now fit a logistic regression model to the traning set. It is like in exercice 1, but we now need to specify that the problem is multi-class. For that, you need to use multi-class = 'multinomial' inside the call to LogisticRegression:"
   ]
  },
  {
   "cell_type": "code",
   "execution_count": 46,
   "id": "ada1baba",
   "metadata": {},
   "outputs": [
    {
     "ename": "AttributeError",
     "evalue": "'DataFrame' object has no attribute 'y'",
     "output_type": "error",
     "traceback": [
      "\u001b[31m---------------------------------------------------------------------------\u001b[39m",
      "\u001b[31mAttributeError\u001b[39m                            Traceback (most recent call last)",
      "\u001b[32m/var/folders/_j/_1gs8lv530q36879x1r_0n9w0000gn/T/ipykernel_12350/1144186473.py\u001b[39m in \u001b[36m?\u001b[39m\u001b[34m()\u001b[39m\n\u001b[32m----> \u001b[39m\u001b[32m1\u001b[39m mc_model = LogisticRegression(multi_class=\u001b[33m'multinomial'\u001b[39m).fit(train_data.iloc[:,\u001b[32m0\u001b[39m:\u001b[32m19\u001b[39m], train_data.y)\n",
      "\u001b[32m~/Code/Python/MachineLearningLabs/.venv/lib/python3.13/site-packages/pandas/core/generic.py\u001b[39m in \u001b[36m?\u001b[39m\u001b[34m(self, name)\u001b[39m\n\u001b[32m   6314\u001b[39m             \u001b[38;5;28;01mand\u001b[39;00m name \u001b[38;5;28;01mnot\u001b[39;00m \u001b[38;5;28;01min\u001b[39;00m self._accessors\n\u001b[32m   6315\u001b[39m             \u001b[38;5;28;01mand\u001b[39;00m self._info_axis._can_hold_identifiers_and_holds_name(name)\n\u001b[32m   6316\u001b[39m         ):\n\u001b[32m   6317\u001b[39m             \u001b[38;5;28;01mreturn\u001b[39;00m self[name]\n\u001b[32m-> \u001b[39m\u001b[32m6318\u001b[39m         \u001b[38;5;28;01mreturn\u001b[39;00m object.__getattribute__(self, name)\n",
      "\u001b[31mAttributeError\u001b[39m: 'DataFrame' object has no attribute 'y'"
     ]
    }
   ],
   "source": [
    "mc_model = LogisticRegression(multi_class='multinomial').fit(train_data.iloc[:,0:19], train_data.y)"
   ]
  },
  {
   "cell_type": "markdown",
   "id": "d41a4626",
   "metadata": {},
   "source": [
    "You should have a warning that says 'TOTAL NO. of ITERATIONS REACHED LIMIT'\n",
    "It means that the parameters should not have been learned well beacuse the algorithm has reached the maximum number of iterations without converging. It is possible to increase the maximum number of iterations:"
   ]
  },
  {
   "cell_type": "code",
   "execution_count": null,
   "id": "2fe1c43b",
   "metadata": {},
   "outputs": [],
   "source": [
    "mc_model = LogisticRegression(multi_class='multinomial', max_iter=1000).fit(train_data.iloc[:,0:19], train_data.y)\n",
    "# Now it should converge"
   ]
  },
  {
   "cell_type": "markdown",
   "id": "f9609152",
   "metadata": {},
   "source": [
    "Question : How many parameters should have this model ?"
   ]
  },
  {
   "cell_type": "code",
   "execution_count": null,
   "id": "0a948450",
   "metadata": {},
   "outputs": [],
   "source": []
  },
  {
   "cell_type": "markdown",
   "id": "b4245776",
   "metadata": {},
   "source": [
    "Exercise : Check the number of parameters by looking at their values (same commands as exercice 1)"
   ]
  },
  {
   "cell_type": "code",
   "execution_count": null,
   "id": "bf3d265a",
   "metadata": {},
   "outputs": [],
   "source": []
  },
  {
   "cell_type": "markdown",
   "id": "8b66c758",
   "metadata": {},
   "source": [
    "Questions : \n",
    "\n",
    "1. How many outputs should have this model ? Check the output values of the model for the first example of the training set using the function predict_proba (as in exercice 1). \n",
    "\n",
    "2. What should be the decision of the model here ? Check it with the 'predict' function"
   ]
  },
  {
   "cell_type": "code",
   "execution_count": null,
   "id": "1c9d35dc",
   "metadata": {},
   "outputs": [],
   "source": []
  },
  {
   "cell_type": "markdown",
   "id": "52b35fed",
   "metadata": {},
   "source": [
    "Questions : What is the prediction accuracy of this model on the train set ? and on the validation set ?"
   ]
  },
  {
   "cell_type": "code",
   "execution_count": null,
   "id": "8b4eae56",
   "metadata": {},
   "outputs": [],
   "source": []
  },
  {
   "cell_type": "markdown",
   "id": "543365a2",
   "metadata": {},
   "source": [
    "Exercise : Using the same procedure as in Exercice 1, try different polynomial features and select the best one. \n",
    "Then, estimate the generalization error of logistic regression on this dataset\n",
    "Don't go over degree 5, otherwise it might be quite long to learn the model (a lot of features)"
   ]
  },
  {
   "cell_type": "code",
   "execution_count": null,
   "id": "4a00215b",
   "metadata": {},
   "outputs": [],
   "source": []
  }
 ],
 "metadata": {
  "kernelspec": {
   "display_name": ".venv",
   "language": "python",
   "name": "python3"
  },
  "language_info": {
   "codemirror_mode": {
    "name": "ipython",
    "version": 3
   },
   "file_extension": ".py",
   "mimetype": "text/x-python",
   "name": "python",
   "nbconvert_exporter": "python",
   "pygments_lexer": "ipython3",
   "version": "3.13.5"
  }
 },
 "nbformat": 4,
 "nbformat_minor": 5
}
